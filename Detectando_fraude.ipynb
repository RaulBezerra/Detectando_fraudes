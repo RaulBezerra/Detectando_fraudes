{
  "nbformat": 4,
  "nbformat_minor": 0,
  "metadata": {
    "colab": {
      "name": "Detectando_fraude.ipynb",
      "provenance": [],
      "collapsed_sections": [
        "-ZvXzpyqBAvX",
        "2ZJQdxfTCwzQ",
        "jl1lHsUqGJ3W",
        "ZRpYx6AvH4dr",
        "XTniwhIlP6Hq"
      ]
    },
    "kernelspec": {
      "name": "python3",
      "display_name": "Python 3"
    },
    "language_info": {
      "name": "python"
    }
  },
  "cells": [
    {
      "cell_type": "markdown",
      "source": [
        "## Introdução\n",
        "- **Problema**: Muitas fraudes foram identificadas no último ano de um e-commerce;\n",
        "\n",
        "- **Solução**: Utilizar a base de dados do último ano para tentar entender o que aconteceu e prever possíveis fraudes no futuro;\n",
        "\n",
        "- **Método**: para análise, visualização e entendimendimento dos dados serão utilizadas bibliotecas como **pandas**, **matiplotlib** e **seaborn**. Para a previsão de novas fraudes serão utilizados modelos do **scikit-learn**."
      ],
      "metadata": {
        "id": "bTuAhPxFvOfu"
      }
    },
    {
      "cell_type": "markdown",
      "source": [
        "##1 - Preparação do ambiente e leitura de dados"
      ],
      "metadata": {
        "id": "qCGtwcn3BEdp"
      }
    },
    {
      "cell_type": "markdown",
      "source": [
        "### Imports"
      ],
      "metadata": {
        "id": "nkN0nCzL-kV8"
      }
    },
    {
      "cell_type": "code",
      "execution_count": null,
      "metadata": {
        "id": "kKE8oY3N-bHO"
      },
      "outputs": [],
      "source": [
        "# 1 - Leitura dos dados\n",
        "import pandas as pd\n",
        "import numpy as np\n",
        "from scipy import special\n",
        "\n",
        "import itertools\n",
        "from datetime import timedelta\n",
        "from IPython.display import display\n",
        "\n",
        "# 2  - AED (análise exploratória de dados)\n",
        "import matplotlib.pyplot as plt\n",
        "import seaborn as sns\n",
        "\n",
        "# 3 - Engenharia de recursos\n",
        "from sklearn.ensemble import ExtraTreesClassifier\n",
        "\n",
        "# 4 - Criando modelos preditivos\n",
        "from sklearn.preprocessing import RobustScaler\n",
        "from sklearn.model_selection import train_test_split\n",
        "from sklearn.ensemble import IsolationForest\n",
        "from sklearn.model_selection import GridSearchCV\n",
        "from sklearn.metrics import classification_report, roc_auc_score, roc_curve\n",
        "from sklearn.metrics import f1_score\n",
        "\n",
        "from sklearn.metrics import confusion_matrix\n",
        "\n",
        "import random \n",
        "\n",
        "from sklearn.svm import OneClassSVM\n",
        "\n",
        "# 5 - Um modelo mais adequado\n",
        "from sklearn.tree import DecisionTreeClassifier"
      ]
    },
    {
      "cell_type": "markdown",
      "source": [
        "### Lendo e explorando os dados"
      ],
      "metadata": {
        "id": "-ZvXzpyqBAvX"
      }
    },
    {
      "cell_type": "code",
      "source": [
        "fraude_df = pd.read_csv('Fraud_Data.csv')\n",
        "ISP_df = pd.read_csv('IpAddress_to_Country.csv')"
      ],
      "metadata": {
        "id": "pp6IlzLL-8zA"
      },
      "execution_count": null,
      "outputs": []
    },
    {
      "cell_type": "code",
      "source": [
        "fraude_df.dtypes"
      ],
      "metadata": {
        "colab": {
          "base_uri": "https://localhost:8080/"
        },
        "id": "vFzaIZvvBj1F",
        "outputId": "32da2f09-ab10-4a6b-dd75-7a57a22178d1"
      },
      "execution_count": null,
      "outputs": [
        {
          "output_type": "execute_result",
          "data": {
            "text/plain": [
              "id                  int64\n",
              "cadastro           object\n",
              "compra             object\n",
              "valor               int64\n",
              "id_dispositivo     object\n",
              "fonte              object\n",
              "browser            object\n",
              "genero             object\n",
              "idade               int64\n",
              "ip                float64\n",
              "fraude              int64\n",
              "dtype: object"
            ]
          },
          "metadata": {},
          "execution_count": 3
        }
      ]
    },
    {
      "cell_type": "markdown",
      "source": [
        "#### Missing values"
      ],
      "metadata": {
        "id": "2ZJQdxfTCwzQ"
      }
    },
    {
      "cell_type": "code",
      "source": [
        "# Tabela de missing values\n",
        "def missing_values_table(df):\n",
        "    mis_val = df.isnull().sum()\n",
        "    mis_val_percent = 100 * df.isnull().sum() / len(df)\n",
        "    mis_val_table = pd.concat([mis_val, mis_val_percent], axis=1)\n",
        "    mis_val_table_ren_columns = mis_val_table.rename(\n",
        "    columns = {0 : 'Missing Values', 1 : '% of Total Values'})\n",
        "    mis_val_table_ren_columns = mis_val_table_ren_columns[\n",
        "        mis_val_table_ren_columns.iloc[:,1] != 0].sort_values(\n",
        "    '% of Total Values', ascending=False).round(1)\n",
        "    print (\"Your selected dataframe has \" + str(df.shape[1]) + \" columns.\\n\"      \n",
        "        \"There are \" + str(mis_val_table_ren_columns.shape[0]) +\n",
        "            \" columns that have missing values.\")\n",
        "    return mis_val_table_ren_columns"
      ],
      "metadata": {
        "id": "Qqx4fiKdCZbe"
      },
      "execution_count": null,
      "outputs": []
    },
    {
      "cell_type": "code",
      "source": [
        "missing_values_table(fraude_df)"
      ],
      "metadata": {
        "colab": {
          "base_uri": "https://localhost:8080/"
        },
        "id": "UM5jV1vtCe30",
        "outputId": "e67a6aef-35d8-49e3-f469-3540fbc1b51a"
      },
      "execution_count": null,
      "outputs": [
        {
          "output_type": "stream",
          "name": "stdout",
          "text": [
            "Your selected dataframe has 11 columns.\n",
            "There are 0 columns that have missing values.\n"
          ]
        },
        {
          "output_type": "execute_result",
          "data": {
            "text/plain": [
              "Empty DataFrame\n",
              "Columns: [Missing Values, % of Total Values]\n",
              "Index: []"
            ],
            "text/html": [
              "\n",
              "  <div id=\"df-4c952005-f6a2-4c84-8ec6-5730f2c8941c\">\n",
              "    <div class=\"colab-df-container\">\n",
              "      <div>\n",
              "<style scoped>\n",
              "    .dataframe tbody tr th:only-of-type {\n",
              "        vertical-align: middle;\n",
              "    }\n",
              "\n",
              "    .dataframe tbody tr th {\n",
              "        vertical-align: top;\n",
              "    }\n",
              "\n",
              "    .dataframe thead th {\n",
              "        text-align: right;\n",
              "    }\n",
              "</style>\n",
              "<table border=\"1\" class=\"dataframe\">\n",
              "  <thead>\n",
              "    <tr style=\"text-align: right;\">\n",
              "      <th></th>\n",
              "      <th>Missing Values</th>\n",
              "      <th>% of Total Values</th>\n",
              "    </tr>\n",
              "  </thead>\n",
              "  <tbody>\n",
              "  </tbody>\n",
              "</table>\n",
              "</div>\n",
              "      <button class=\"colab-df-convert\" onclick=\"convertToInteractive('df-4c952005-f6a2-4c84-8ec6-5730f2c8941c')\"\n",
              "              title=\"Convert this dataframe to an interactive table.\"\n",
              "              style=\"display:none;\">\n",
              "        \n",
              "  <svg xmlns=\"http://www.w3.org/2000/svg\" height=\"24px\"viewBox=\"0 0 24 24\"\n",
              "       width=\"24px\">\n",
              "    <path d=\"M0 0h24v24H0V0z\" fill=\"none\"/>\n",
              "    <path d=\"M18.56 5.44l.94 2.06.94-2.06 2.06-.94-2.06-.94-.94-2.06-.94 2.06-2.06.94zm-11 1L8.5 8.5l.94-2.06 2.06-.94-2.06-.94L8.5 2.5l-.94 2.06-2.06.94zm10 10l.94 2.06.94-2.06 2.06-.94-2.06-.94-.94-2.06-.94 2.06-2.06.94z\"/><path d=\"M17.41 7.96l-1.37-1.37c-.4-.4-.92-.59-1.43-.59-.52 0-1.04.2-1.43.59L10.3 9.45l-7.72 7.72c-.78.78-.78 2.05 0 2.83L4 21.41c.39.39.9.59 1.41.59.51 0 1.02-.2 1.41-.59l7.78-7.78 2.81-2.81c.8-.78.8-2.07 0-2.86zM5.41 20L4 18.59l7.72-7.72 1.47 1.35L5.41 20z\"/>\n",
              "  </svg>\n",
              "      </button>\n",
              "      \n",
              "  <style>\n",
              "    .colab-df-container {\n",
              "      display:flex;\n",
              "      flex-wrap:wrap;\n",
              "      gap: 12px;\n",
              "    }\n",
              "\n",
              "    .colab-df-convert {\n",
              "      background-color: #E8F0FE;\n",
              "      border: none;\n",
              "      border-radius: 50%;\n",
              "      cursor: pointer;\n",
              "      display: none;\n",
              "      fill: #1967D2;\n",
              "      height: 32px;\n",
              "      padding: 0 0 0 0;\n",
              "      width: 32px;\n",
              "    }\n",
              "\n",
              "    .colab-df-convert:hover {\n",
              "      background-color: #E2EBFA;\n",
              "      box-shadow: 0px 1px 2px rgba(60, 64, 67, 0.3), 0px 1px 3px 1px rgba(60, 64, 67, 0.15);\n",
              "      fill: #174EA6;\n",
              "    }\n",
              "\n",
              "    [theme=dark] .colab-df-convert {\n",
              "      background-color: #3B4455;\n",
              "      fill: #D2E3FC;\n",
              "    }\n",
              "\n",
              "    [theme=dark] .colab-df-convert:hover {\n",
              "      background-color: #434B5C;\n",
              "      box-shadow: 0px 1px 3px 1px rgba(0, 0, 0, 0.15);\n",
              "      filter: drop-shadow(0px 1px 2px rgba(0, 0, 0, 0.3));\n",
              "      fill: #FFFFFF;\n",
              "    }\n",
              "  </style>\n",
              "\n",
              "      <script>\n",
              "        const buttonEl =\n",
              "          document.querySelector('#df-4c952005-f6a2-4c84-8ec6-5730f2c8941c button.colab-df-convert');\n",
              "        buttonEl.style.display =\n",
              "          google.colab.kernel.accessAllowed ? 'block' : 'none';\n",
              "\n",
              "        async function convertToInteractive(key) {\n",
              "          const element = document.querySelector('#df-4c952005-f6a2-4c84-8ec6-5730f2c8941c');\n",
              "          const dataTable =\n",
              "            await google.colab.kernel.invokeFunction('convertToInteractive',\n",
              "                                                     [key], {});\n",
              "          if (!dataTable) return;\n",
              "\n",
              "          const docLinkHtml = 'Like what you see? Visit the ' +\n",
              "            '<a target=\"_blank\" href=https://colab.research.google.com/notebooks/data_table.ipynb>data table notebook</a>'\n",
              "            + ' to learn more about interactive tables.';\n",
              "          element.innerHTML = '';\n",
              "          dataTable['output_type'] = 'display_data';\n",
              "          await google.colab.output.renderOutput(dataTable, element);\n",
              "          const docLink = document.createElement('div');\n",
              "          docLink.innerHTML = docLinkHtml;\n",
              "          element.appendChild(docLink);\n",
              "        }\n",
              "      </script>\n",
              "    </div>\n",
              "  </div>\n",
              "  "
            ]
          },
          "metadata": {},
          "execution_count": 5
        }
      ]
    },
    {
      "cell_type": "code",
      "source": [
        "missing_values_table(ISP_df)"
      ],
      "metadata": {
        "colab": {
          "base_uri": "https://localhost:8080/"
        },
        "id": "84RHinR-Co7O",
        "outputId": "79496fed-2f26-4199-ba8e-82a2aa9f51db"
      },
      "execution_count": null,
      "outputs": [
        {
          "output_type": "stream",
          "name": "stdout",
          "text": [
            "Your selected dataframe has 3 columns.\n",
            "There are 0 columns that have missing values.\n"
          ]
        },
        {
          "output_type": "execute_result",
          "data": {
            "text/plain": [
              "Empty DataFrame\n",
              "Columns: [Missing Values, % of Total Values]\n",
              "Index: []"
            ],
            "text/html": [
              "\n",
              "  <div id=\"df-89d58e66-bc12-49cd-b488-b8cfec288936\">\n",
              "    <div class=\"colab-df-container\">\n",
              "      <div>\n",
              "<style scoped>\n",
              "    .dataframe tbody tr th:only-of-type {\n",
              "        vertical-align: middle;\n",
              "    }\n",
              "\n",
              "    .dataframe tbody tr th {\n",
              "        vertical-align: top;\n",
              "    }\n",
              "\n",
              "    .dataframe thead th {\n",
              "        text-align: right;\n",
              "    }\n",
              "</style>\n",
              "<table border=\"1\" class=\"dataframe\">\n",
              "  <thead>\n",
              "    <tr style=\"text-align: right;\">\n",
              "      <th></th>\n",
              "      <th>Missing Values</th>\n",
              "      <th>% of Total Values</th>\n",
              "    </tr>\n",
              "  </thead>\n",
              "  <tbody>\n",
              "  </tbody>\n",
              "</table>\n",
              "</div>\n",
              "      <button class=\"colab-df-convert\" onclick=\"convertToInteractive('df-89d58e66-bc12-49cd-b488-b8cfec288936')\"\n",
              "              title=\"Convert this dataframe to an interactive table.\"\n",
              "              style=\"display:none;\">\n",
              "        \n",
              "  <svg xmlns=\"http://www.w3.org/2000/svg\" height=\"24px\"viewBox=\"0 0 24 24\"\n",
              "       width=\"24px\">\n",
              "    <path d=\"M0 0h24v24H0V0z\" fill=\"none\"/>\n",
              "    <path d=\"M18.56 5.44l.94 2.06.94-2.06 2.06-.94-2.06-.94-.94-2.06-.94 2.06-2.06.94zm-11 1L8.5 8.5l.94-2.06 2.06-.94-2.06-.94L8.5 2.5l-.94 2.06-2.06.94zm10 10l.94 2.06.94-2.06 2.06-.94-2.06-.94-.94-2.06-.94 2.06-2.06.94z\"/><path d=\"M17.41 7.96l-1.37-1.37c-.4-.4-.92-.59-1.43-.59-.52 0-1.04.2-1.43.59L10.3 9.45l-7.72 7.72c-.78.78-.78 2.05 0 2.83L4 21.41c.39.39.9.59 1.41.59.51 0 1.02-.2 1.41-.59l7.78-7.78 2.81-2.81c.8-.78.8-2.07 0-2.86zM5.41 20L4 18.59l7.72-7.72 1.47 1.35L5.41 20z\"/>\n",
              "  </svg>\n",
              "      </button>\n",
              "      \n",
              "  <style>\n",
              "    .colab-df-container {\n",
              "      display:flex;\n",
              "      flex-wrap:wrap;\n",
              "      gap: 12px;\n",
              "    }\n",
              "\n",
              "    .colab-df-convert {\n",
              "      background-color: #E8F0FE;\n",
              "      border: none;\n",
              "      border-radius: 50%;\n",
              "      cursor: pointer;\n",
              "      display: none;\n",
              "      fill: #1967D2;\n",
              "      height: 32px;\n",
              "      padding: 0 0 0 0;\n",
              "      width: 32px;\n",
              "    }\n",
              "\n",
              "    .colab-df-convert:hover {\n",
              "      background-color: #E2EBFA;\n",
              "      box-shadow: 0px 1px 2px rgba(60, 64, 67, 0.3), 0px 1px 3px 1px rgba(60, 64, 67, 0.15);\n",
              "      fill: #174EA6;\n",
              "    }\n",
              "\n",
              "    [theme=dark] .colab-df-convert {\n",
              "      background-color: #3B4455;\n",
              "      fill: #D2E3FC;\n",
              "    }\n",
              "\n",
              "    [theme=dark] .colab-df-convert:hover {\n",
              "      background-color: #434B5C;\n",
              "      box-shadow: 0px 1px 3px 1px rgba(0, 0, 0, 0.15);\n",
              "      filter: drop-shadow(0px 1px 2px rgba(0, 0, 0, 0.3));\n",
              "      fill: #FFFFFF;\n",
              "    }\n",
              "  </style>\n",
              "\n",
              "      <script>\n",
              "        const buttonEl =\n",
              "          document.querySelector('#df-89d58e66-bc12-49cd-b488-b8cfec288936 button.colab-df-convert');\n",
              "        buttonEl.style.display =\n",
              "          google.colab.kernel.accessAllowed ? 'block' : 'none';\n",
              "\n",
              "        async function convertToInteractive(key) {\n",
              "          const element = document.querySelector('#df-89d58e66-bc12-49cd-b488-b8cfec288936');\n",
              "          const dataTable =\n",
              "            await google.colab.kernel.invokeFunction('convertToInteractive',\n",
              "                                                     [key], {});\n",
              "          if (!dataTable) return;\n",
              "\n",
              "          const docLinkHtml = 'Like what you see? Visit the ' +\n",
              "            '<a target=\"_blank\" href=https://colab.research.google.com/notebooks/data_table.ipynb>data table notebook</a>'\n",
              "            + ' to learn more about interactive tables.';\n",
              "          element.innerHTML = '';\n",
              "          dataTable['output_type'] = 'display_data';\n",
              "          await google.colab.output.renderOutput(dataTable, element);\n",
              "          const docLink = document.createElement('div');\n",
              "          docLink.innerHTML = docLinkHtml;\n",
              "          element.appendChild(docLink);\n",
              "        }\n",
              "      </script>\n",
              "    </div>\n",
              "  </div>\n",
              "  "
            ]
          },
          "metadata": {},
          "execution_count": 6
        }
      ]
    },
    {
      "cell_type": "markdown",
      "source": [
        "#### Describe"
      ],
      "metadata": {
        "id": "H0t05sJ_C0Uo"
      }
    },
    {
      "cell_type": "code",
      "source": [
        "fraude_df.describe()"
      ],
      "metadata": {
        "colab": {
          "base_uri": "https://localhost:8080/",
          "height": 300
        },
        "id": "NkVu2HSiCvK8",
        "outputId": "5cddeb9f-c1b4-42e4-96b6-94c4f9d811a0"
      },
      "execution_count": null,
      "outputs": [
        {
          "output_type": "execute_result",
          "data": {
            "text/plain": [
              "                  id          valor          idade            ip  \\\n",
              "count  151112.000000  151112.000000  151112.000000  1.511120e+05   \n",
              "mean   200171.040970      36.935372      33.140704  2.152145e+09   \n",
              "std    115369.285024      18.322762       8.617733  1.248497e+09   \n",
              "min         2.000000       9.000000      18.000000  5.209350e+04   \n",
              "25%    100642.500000      22.000000      27.000000  1.085934e+09   \n",
              "50%    199958.000000      35.000000      33.000000  2.154770e+09   \n",
              "75%    300054.000000      49.000000      39.000000  3.243258e+09   \n",
              "max    400000.000000     154.000000      76.000000  4.294850e+09   \n",
              "\n",
              "              fraude  \n",
              "count  151112.000000  \n",
              "mean        0.093646  \n",
              "std         0.291336  \n",
              "min         0.000000  \n",
              "25%         0.000000  \n",
              "50%         0.000000  \n",
              "75%         0.000000  \n",
              "max         1.000000  "
            ],
            "text/html": [
              "\n",
              "  <div id=\"df-40ff965b-f52b-4c7c-ace5-f123389c83bb\">\n",
              "    <div class=\"colab-df-container\">\n",
              "      <div>\n",
              "<style scoped>\n",
              "    .dataframe tbody tr th:only-of-type {\n",
              "        vertical-align: middle;\n",
              "    }\n",
              "\n",
              "    .dataframe tbody tr th {\n",
              "        vertical-align: top;\n",
              "    }\n",
              "\n",
              "    .dataframe thead th {\n",
              "        text-align: right;\n",
              "    }\n",
              "</style>\n",
              "<table border=\"1\" class=\"dataframe\">\n",
              "  <thead>\n",
              "    <tr style=\"text-align: right;\">\n",
              "      <th></th>\n",
              "      <th>id</th>\n",
              "      <th>valor</th>\n",
              "      <th>idade</th>\n",
              "      <th>ip</th>\n",
              "      <th>fraude</th>\n",
              "    </tr>\n",
              "  </thead>\n",
              "  <tbody>\n",
              "    <tr>\n",
              "      <th>count</th>\n",
              "      <td>151112.000000</td>\n",
              "      <td>151112.000000</td>\n",
              "      <td>151112.000000</td>\n",
              "      <td>1.511120e+05</td>\n",
              "      <td>151112.000000</td>\n",
              "    </tr>\n",
              "    <tr>\n",
              "      <th>mean</th>\n",
              "      <td>200171.040970</td>\n",
              "      <td>36.935372</td>\n",
              "      <td>33.140704</td>\n",
              "      <td>2.152145e+09</td>\n",
              "      <td>0.093646</td>\n",
              "    </tr>\n",
              "    <tr>\n",
              "      <th>std</th>\n",
              "      <td>115369.285024</td>\n",
              "      <td>18.322762</td>\n",
              "      <td>8.617733</td>\n",
              "      <td>1.248497e+09</td>\n",
              "      <td>0.291336</td>\n",
              "    </tr>\n",
              "    <tr>\n",
              "      <th>min</th>\n",
              "      <td>2.000000</td>\n",
              "      <td>9.000000</td>\n",
              "      <td>18.000000</td>\n",
              "      <td>5.209350e+04</td>\n",
              "      <td>0.000000</td>\n",
              "    </tr>\n",
              "    <tr>\n",
              "      <th>25%</th>\n",
              "      <td>100642.500000</td>\n",
              "      <td>22.000000</td>\n",
              "      <td>27.000000</td>\n",
              "      <td>1.085934e+09</td>\n",
              "      <td>0.000000</td>\n",
              "    </tr>\n",
              "    <tr>\n",
              "      <th>50%</th>\n",
              "      <td>199958.000000</td>\n",
              "      <td>35.000000</td>\n",
              "      <td>33.000000</td>\n",
              "      <td>2.154770e+09</td>\n",
              "      <td>0.000000</td>\n",
              "    </tr>\n",
              "    <tr>\n",
              "      <th>75%</th>\n",
              "      <td>300054.000000</td>\n",
              "      <td>49.000000</td>\n",
              "      <td>39.000000</td>\n",
              "      <td>3.243258e+09</td>\n",
              "      <td>0.000000</td>\n",
              "    </tr>\n",
              "    <tr>\n",
              "      <th>max</th>\n",
              "      <td>400000.000000</td>\n",
              "      <td>154.000000</td>\n",
              "      <td>76.000000</td>\n",
              "      <td>4.294850e+09</td>\n",
              "      <td>1.000000</td>\n",
              "    </tr>\n",
              "  </tbody>\n",
              "</table>\n",
              "</div>\n",
              "      <button class=\"colab-df-convert\" onclick=\"convertToInteractive('df-40ff965b-f52b-4c7c-ace5-f123389c83bb')\"\n",
              "              title=\"Convert this dataframe to an interactive table.\"\n",
              "              style=\"display:none;\">\n",
              "        \n",
              "  <svg xmlns=\"http://www.w3.org/2000/svg\" height=\"24px\"viewBox=\"0 0 24 24\"\n",
              "       width=\"24px\">\n",
              "    <path d=\"M0 0h24v24H0V0z\" fill=\"none\"/>\n",
              "    <path d=\"M18.56 5.44l.94 2.06.94-2.06 2.06-.94-2.06-.94-.94-2.06-.94 2.06-2.06.94zm-11 1L8.5 8.5l.94-2.06 2.06-.94-2.06-.94L8.5 2.5l-.94 2.06-2.06.94zm10 10l.94 2.06.94-2.06 2.06-.94-2.06-.94-.94-2.06-.94 2.06-2.06.94z\"/><path d=\"M17.41 7.96l-1.37-1.37c-.4-.4-.92-.59-1.43-.59-.52 0-1.04.2-1.43.59L10.3 9.45l-7.72 7.72c-.78.78-.78 2.05 0 2.83L4 21.41c.39.39.9.59 1.41.59.51 0 1.02-.2 1.41-.59l7.78-7.78 2.81-2.81c.8-.78.8-2.07 0-2.86zM5.41 20L4 18.59l7.72-7.72 1.47 1.35L5.41 20z\"/>\n",
              "  </svg>\n",
              "      </button>\n",
              "      \n",
              "  <style>\n",
              "    .colab-df-container {\n",
              "      display:flex;\n",
              "      flex-wrap:wrap;\n",
              "      gap: 12px;\n",
              "    }\n",
              "\n",
              "    .colab-df-convert {\n",
              "      background-color: #E8F0FE;\n",
              "      border: none;\n",
              "      border-radius: 50%;\n",
              "      cursor: pointer;\n",
              "      display: none;\n",
              "      fill: #1967D2;\n",
              "      height: 32px;\n",
              "      padding: 0 0 0 0;\n",
              "      width: 32px;\n",
              "    }\n",
              "\n",
              "    .colab-df-convert:hover {\n",
              "      background-color: #E2EBFA;\n",
              "      box-shadow: 0px 1px 2px rgba(60, 64, 67, 0.3), 0px 1px 3px 1px rgba(60, 64, 67, 0.15);\n",
              "      fill: #174EA6;\n",
              "    }\n",
              "\n",
              "    [theme=dark] .colab-df-convert {\n",
              "      background-color: #3B4455;\n",
              "      fill: #D2E3FC;\n",
              "    }\n",
              "\n",
              "    [theme=dark] .colab-df-convert:hover {\n",
              "      background-color: #434B5C;\n",
              "      box-shadow: 0px 1px 3px 1px rgba(0, 0, 0, 0.15);\n",
              "      filter: drop-shadow(0px 1px 2px rgba(0, 0, 0, 0.3));\n",
              "      fill: #FFFFFF;\n",
              "    }\n",
              "  </style>\n",
              "\n",
              "      <script>\n",
              "        const buttonEl =\n",
              "          document.querySelector('#df-40ff965b-f52b-4c7c-ace5-f123389c83bb button.colab-df-convert');\n",
              "        buttonEl.style.display =\n",
              "          google.colab.kernel.accessAllowed ? 'block' : 'none';\n",
              "\n",
              "        async function convertToInteractive(key) {\n",
              "          const element = document.querySelector('#df-40ff965b-f52b-4c7c-ace5-f123389c83bb');\n",
              "          const dataTable =\n",
              "            await google.colab.kernel.invokeFunction('convertToInteractive',\n",
              "                                                     [key], {});\n",
              "          if (!dataTable) return;\n",
              "\n",
              "          const docLinkHtml = 'Like what you see? Visit the ' +\n",
              "            '<a target=\"_blank\" href=https://colab.research.google.com/notebooks/data_table.ipynb>data table notebook</a>'\n",
              "            + ' to learn more about interactive tables.';\n",
              "          element.innerHTML = '';\n",
              "          dataTable['output_type'] = 'display_data';\n",
              "          await google.colab.output.renderOutput(dataTable, element);\n",
              "          const docLink = document.createElement('div');\n",
              "          docLink.innerHTML = docLinkHtml;\n",
              "          element.appendChild(docLink);\n",
              "        }\n",
              "      </script>\n",
              "    </div>\n",
              "  </div>\n",
              "  "
            ]
          },
          "metadata": {},
          "execution_count": 7
        }
      ]
    },
    {
      "cell_type": "code",
      "source": [
        "ISP_df.describe()"
      ],
      "metadata": {
        "colab": {
          "base_uri": "https://localhost:8080/",
          "height": 300
        },
        "id": "0QdEGYZYC5qK",
        "outputId": "de2cc9cc-69c4-4e2b-ba70-7380905c5b85"
      },
      "execution_count": null,
      "outputs": [
        {
          "output_type": "execute_result",
          "data": {
            "text/plain": [
              "       limite_inferior_ip  limite_superior_ip\n",
              "count        1.388460e+05        1.388460e+05\n",
              "mean         2.724532e+09        2.724557e+09\n",
              "std          8.975215e+08        8.974979e+08\n",
              "min          1.677722e+07        1.677747e+07\n",
              "25%          1.919930e+09        1.920008e+09\n",
              "50%          3.230887e+09        3.230888e+09\n",
              "75%          3.350465e+09        3.350466e+09\n",
              "max          3.758096e+09        3.758096e+09"
            ],
            "text/html": [
              "\n",
              "  <div id=\"df-e71da024-47fc-4de0-8b1f-91077689daac\">\n",
              "    <div class=\"colab-df-container\">\n",
              "      <div>\n",
              "<style scoped>\n",
              "    .dataframe tbody tr th:only-of-type {\n",
              "        vertical-align: middle;\n",
              "    }\n",
              "\n",
              "    .dataframe tbody tr th {\n",
              "        vertical-align: top;\n",
              "    }\n",
              "\n",
              "    .dataframe thead th {\n",
              "        text-align: right;\n",
              "    }\n",
              "</style>\n",
              "<table border=\"1\" class=\"dataframe\">\n",
              "  <thead>\n",
              "    <tr style=\"text-align: right;\">\n",
              "      <th></th>\n",
              "      <th>limite_inferior_ip</th>\n",
              "      <th>limite_superior_ip</th>\n",
              "    </tr>\n",
              "  </thead>\n",
              "  <tbody>\n",
              "    <tr>\n",
              "      <th>count</th>\n",
              "      <td>1.388460e+05</td>\n",
              "      <td>1.388460e+05</td>\n",
              "    </tr>\n",
              "    <tr>\n",
              "      <th>mean</th>\n",
              "      <td>2.724532e+09</td>\n",
              "      <td>2.724557e+09</td>\n",
              "    </tr>\n",
              "    <tr>\n",
              "      <th>std</th>\n",
              "      <td>8.975215e+08</td>\n",
              "      <td>8.974979e+08</td>\n",
              "    </tr>\n",
              "    <tr>\n",
              "      <th>min</th>\n",
              "      <td>1.677722e+07</td>\n",
              "      <td>1.677747e+07</td>\n",
              "    </tr>\n",
              "    <tr>\n",
              "      <th>25%</th>\n",
              "      <td>1.919930e+09</td>\n",
              "      <td>1.920008e+09</td>\n",
              "    </tr>\n",
              "    <tr>\n",
              "      <th>50%</th>\n",
              "      <td>3.230887e+09</td>\n",
              "      <td>3.230888e+09</td>\n",
              "    </tr>\n",
              "    <tr>\n",
              "      <th>75%</th>\n",
              "      <td>3.350465e+09</td>\n",
              "      <td>3.350466e+09</td>\n",
              "    </tr>\n",
              "    <tr>\n",
              "      <th>max</th>\n",
              "      <td>3.758096e+09</td>\n",
              "      <td>3.758096e+09</td>\n",
              "    </tr>\n",
              "  </tbody>\n",
              "</table>\n",
              "</div>\n",
              "      <button class=\"colab-df-convert\" onclick=\"convertToInteractive('df-e71da024-47fc-4de0-8b1f-91077689daac')\"\n",
              "              title=\"Convert this dataframe to an interactive table.\"\n",
              "              style=\"display:none;\">\n",
              "        \n",
              "  <svg xmlns=\"http://www.w3.org/2000/svg\" height=\"24px\"viewBox=\"0 0 24 24\"\n",
              "       width=\"24px\">\n",
              "    <path d=\"M0 0h24v24H0V0z\" fill=\"none\"/>\n",
              "    <path d=\"M18.56 5.44l.94 2.06.94-2.06 2.06-.94-2.06-.94-.94-2.06-.94 2.06-2.06.94zm-11 1L8.5 8.5l.94-2.06 2.06-.94-2.06-.94L8.5 2.5l-.94 2.06-2.06.94zm10 10l.94 2.06.94-2.06 2.06-.94-2.06-.94-.94-2.06-.94 2.06-2.06.94z\"/><path d=\"M17.41 7.96l-1.37-1.37c-.4-.4-.92-.59-1.43-.59-.52 0-1.04.2-1.43.59L10.3 9.45l-7.72 7.72c-.78.78-.78 2.05 0 2.83L4 21.41c.39.39.9.59 1.41.59.51 0 1.02-.2 1.41-.59l7.78-7.78 2.81-2.81c.8-.78.8-2.07 0-2.86zM5.41 20L4 18.59l7.72-7.72 1.47 1.35L5.41 20z\"/>\n",
              "  </svg>\n",
              "      </button>\n",
              "      \n",
              "  <style>\n",
              "    .colab-df-container {\n",
              "      display:flex;\n",
              "      flex-wrap:wrap;\n",
              "      gap: 12px;\n",
              "    }\n",
              "\n",
              "    .colab-df-convert {\n",
              "      background-color: #E8F0FE;\n",
              "      border: none;\n",
              "      border-radius: 50%;\n",
              "      cursor: pointer;\n",
              "      display: none;\n",
              "      fill: #1967D2;\n",
              "      height: 32px;\n",
              "      padding: 0 0 0 0;\n",
              "      width: 32px;\n",
              "    }\n",
              "\n",
              "    .colab-df-convert:hover {\n",
              "      background-color: #E2EBFA;\n",
              "      box-shadow: 0px 1px 2px rgba(60, 64, 67, 0.3), 0px 1px 3px 1px rgba(60, 64, 67, 0.15);\n",
              "      fill: #174EA6;\n",
              "    }\n",
              "\n",
              "    [theme=dark] .colab-df-convert {\n",
              "      background-color: #3B4455;\n",
              "      fill: #D2E3FC;\n",
              "    }\n",
              "\n",
              "    [theme=dark] .colab-df-convert:hover {\n",
              "      background-color: #434B5C;\n",
              "      box-shadow: 0px 1px 3px 1px rgba(0, 0, 0, 0.15);\n",
              "      filter: drop-shadow(0px 1px 2px rgba(0, 0, 0, 0.3));\n",
              "      fill: #FFFFFF;\n",
              "    }\n",
              "  </style>\n",
              "\n",
              "      <script>\n",
              "        const buttonEl =\n",
              "          document.querySelector('#df-e71da024-47fc-4de0-8b1f-91077689daac button.colab-df-convert');\n",
              "        buttonEl.style.display =\n",
              "          google.colab.kernel.accessAllowed ? 'block' : 'none';\n",
              "\n",
              "        async function convertToInteractive(key) {\n",
              "          const element = document.querySelector('#df-e71da024-47fc-4de0-8b1f-91077689daac');\n",
              "          const dataTable =\n",
              "            await google.colab.kernel.invokeFunction('convertToInteractive',\n",
              "                                                     [key], {});\n",
              "          if (!dataTable) return;\n",
              "\n",
              "          const docLinkHtml = 'Like what you see? Visit the ' +\n",
              "            '<a target=\"_blank\" href=https://colab.research.google.com/notebooks/data_table.ipynb>data table notebook</a>'\n",
              "            + ' to learn more about interactive tables.';\n",
              "          element.innerHTML = '';\n",
              "          dataTable['output_type'] = 'display_data';\n",
              "          await google.colab.output.renderOutput(dataTable, element);\n",
              "          const docLink = document.createElement('div');\n",
              "          docLink.innerHTML = docLinkHtml;\n",
              "          element.appendChild(docLink);\n",
              "        }\n",
              "      </script>\n",
              "    </div>\n",
              "  </div>\n",
              "  "
            ]
          },
          "metadata": {},
          "execution_count": 8
        }
      ]
    },
    {
      "cell_type": "code",
      "source": [
        "display(ISP_df[ISP_df.limite_inferior_ip == ISP_df.limite_inferior_ip.max()])\n",
        "display(ISP_df[ISP_df.limite_inferior_ip == ISP_df.limite_superior_ip.max()])"
      ],
      "metadata": {
        "colab": {
          "base_uri": "https://localhost:8080/",
          "height": 113
        },
        "id": "2CJsp3nNFrDI",
        "outputId": "b12003de-c4c2-4f29-a20d-d1f2fb44d5ea"
      },
      "execution_count": null,
      "outputs": [
        {
          "output_type": "display_data",
          "data": {
            "text/plain": [
              "        limite_inferior_ip  limite_superior_ip       pais\n",
              "138845        3.758096e+09          3758096383  Australia"
            ],
            "text/html": [
              "\n",
              "  <div id=\"df-b71f8bfa-fa4b-48f1-8cf3-b1000730ca48\">\n",
              "    <div class=\"colab-df-container\">\n",
              "      <div>\n",
              "<style scoped>\n",
              "    .dataframe tbody tr th:only-of-type {\n",
              "        vertical-align: middle;\n",
              "    }\n",
              "\n",
              "    .dataframe tbody tr th {\n",
              "        vertical-align: top;\n",
              "    }\n",
              "\n",
              "    .dataframe thead th {\n",
              "        text-align: right;\n",
              "    }\n",
              "</style>\n",
              "<table border=\"1\" class=\"dataframe\">\n",
              "  <thead>\n",
              "    <tr style=\"text-align: right;\">\n",
              "      <th></th>\n",
              "      <th>limite_inferior_ip</th>\n",
              "      <th>limite_superior_ip</th>\n",
              "      <th>pais</th>\n",
              "    </tr>\n",
              "  </thead>\n",
              "  <tbody>\n",
              "    <tr>\n",
              "      <th>138845</th>\n",
              "      <td>3.758096e+09</td>\n",
              "      <td>3758096383</td>\n",
              "      <td>Australia</td>\n",
              "    </tr>\n",
              "  </tbody>\n",
              "</table>\n",
              "</div>\n",
              "      <button class=\"colab-df-convert\" onclick=\"convertToInteractive('df-b71f8bfa-fa4b-48f1-8cf3-b1000730ca48')\"\n",
              "              title=\"Convert this dataframe to an interactive table.\"\n",
              "              style=\"display:none;\">\n",
              "        \n",
              "  <svg xmlns=\"http://www.w3.org/2000/svg\" height=\"24px\"viewBox=\"0 0 24 24\"\n",
              "       width=\"24px\">\n",
              "    <path d=\"M0 0h24v24H0V0z\" fill=\"none\"/>\n",
              "    <path d=\"M18.56 5.44l.94 2.06.94-2.06 2.06-.94-2.06-.94-.94-2.06-.94 2.06-2.06.94zm-11 1L8.5 8.5l.94-2.06 2.06-.94-2.06-.94L8.5 2.5l-.94 2.06-2.06.94zm10 10l.94 2.06.94-2.06 2.06-.94-2.06-.94-.94-2.06-.94 2.06-2.06.94z\"/><path d=\"M17.41 7.96l-1.37-1.37c-.4-.4-.92-.59-1.43-.59-.52 0-1.04.2-1.43.59L10.3 9.45l-7.72 7.72c-.78.78-.78 2.05 0 2.83L4 21.41c.39.39.9.59 1.41.59.51 0 1.02-.2 1.41-.59l7.78-7.78 2.81-2.81c.8-.78.8-2.07 0-2.86zM5.41 20L4 18.59l7.72-7.72 1.47 1.35L5.41 20z\"/>\n",
              "  </svg>\n",
              "      </button>\n",
              "      \n",
              "  <style>\n",
              "    .colab-df-container {\n",
              "      display:flex;\n",
              "      flex-wrap:wrap;\n",
              "      gap: 12px;\n",
              "    }\n",
              "\n",
              "    .colab-df-convert {\n",
              "      background-color: #E8F0FE;\n",
              "      border: none;\n",
              "      border-radius: 50%;\n",
              "      cursor: pointer;\n",
              "      display: none;\n",
              "      fill: #1967D2;\n",
              "      height: 32px;\n",
              "      padding: 0 0 0 0;\n",
              "      width: 32px;\n",
              "    }\n",
              "\n",
              "    .colab-df-convert:hover {\n",
              "      background-color: #E2EBFA;\n",
              "      box-shadow: 0px 1px 2px rgba(60, 64, 67, 0.3), 0px 1px 3px 1px rgba(60, 64, 67, 0.15);\n",
              "      fill: #174EA6;\n",
              "    }\n",
              "\n",
              "    [theme=dark] .colab-df-convert {\n",
              "      background-color: #3B4455;\n",
              "      fill: #D2E3FC;\n",
              "    }\n",
              "\n",
              "    [theme=dark] .colab-df-convert:hover {\n",
              "      background-color: #434B5C;\n",
              "      box-shadow: 0px 1px 3px 1px rgba(0, 0, 0, 0.15);\n",
              "      filter: drop-shadow(0px 1px 2px rgba(0, 0, 0, 0.3));\n",
              "      fill: #FFFFFF;\n",
              "    }\n",
              "  </style>\n",
              "\n",
              "      <script>\n",
              "        const buttonEl =\n",
              "          document.querySelector('#df-b71f8bfa-fa4b-48f1-8cf3-b1000730ca48 button.colab-df-convert');\n",
              "        buttonEl.style.display =\n",
              "          google.colab.kernel.accessAllowed ? 'block' : 'none';\n",
              "\n",
              "        async function convertToInteractive(key) {\n",
              "          const element = document.querySelector('#df-b71f8bfa-fa4b-48f1-8cf3-b1000730ca48');\n",
              "          const dataTable =\n",
              "            await google.colab.kernel.invokeFunction('convertToInteractive',\n",
              "                                                     [key], {});\n",
              "          if (!dataTable) return;\n",
              "\n",
              "          const docLinkHtml = 'Like what you see? Visit the ' +\n",
              "            '<a target=\"_blank\" href=https://colab.research.google.com/notebooks/data_table.ipynb>data table notebook</a>'\n",
              "            + ' to learn more about interactive tables.';\n",
              "          element.innerHTML = '';\n",
              "          dataTable['output_type'] = 'display_data';\n",
              "          await google.colab.output.renderOutput(dataTable, element);\n",
              "          const docLink = document.createElement('div');\n",
              "          docLink.innerHTML = docLinkHtml;\n",
              "          element.appendChild(docLink);\n",
              "        }\n",
              "      </script>\n",
              "    </div>\n",
              "  </div>\n",
              "  "
            ]
          },
          "metadata": {}
        },
        {
          "output_type": "display_data",
          "data": {
            "text/plain": [
              "Empty DataFrame\n",
              "Columns: [limite_inferior_ip, limite_superior_ip, pais]\n",
              "Index: []"
            ],
            "text/html": [
              "\n",
              "  <div id=\"df-e29acf24-50ca-4e4a-9549-d1a58e47f098\">\n",
              "    <div class=\"colab-df-container\">\n",
              "      <div>\n",
              "<style scoped>\n",
              "    .dataframe tbody tr th:only-of-type {\n",
              "        vertical-align: middle;\n",
              "    }\n",
              "\n",
              "    .dataframe tbody tr th {\n",
              "        vertical-align: top;\n",
              "    }\n",
              "\n",
              "    .dataframe thead th {\n",
              "        text-align: right;\n",
              "    }\n",
              "</style>\n",
              "<table border=\"1\" class=\"dataframe\">\n",
              "  <thead>\n",
              "    <tr style=\"text-align: right;\">\n",
              "      <th></th>\n",
              "      <th>limite_inferior_ip</th>\n",
              "      <th>limite_superior_ip</th>\n",
              "      <th>pais</th>\n",
              "    </tr>\n",
              "  </thead>\n",
              "  <tbody>\n",
              "  </tbody>\n",
              "</table>\n",
              "</div>\n",
              "      <button class=\"colab-df-convert\" onclick=\"convertToInteractive('df-e29acf24-50ca-4e4a-9549-d1a58e47f098')\"\n",
              "              title=\"Convert this dataframe to an interactive table.\"\n",
              "              style=\"display:none;\">\n",
              "        \n",
              "  <svg xmlns=\"http://www.w3.org/2000/svg\" height=\"24px\"viewBox=\"0 0 24 24\"\n",
              "       width=\"24px\">\n",
              "    <path d=\"M0 0h24v24H0V0z\" fill=\"none\"/>\n",
              "    <path d=\"M18.56 5.44l.94 2.06.94-2.06 2.06-.94-2.06-.94-.94-2.06-.94 2.06-2.06.94zm-11 1L8.5 8.5l.94-2.06 2.06-.94-2.06-.94L8.5 2.5l-.94 2.06-2.06.94zm10 10l.94 2.06.94-2.06 2.06-.94-2.06-.94-.94-2.06-.94 2.06-2.06.94z\"/><path d=\"M17.41 7.96l-1.37-1.37c-.4-.4-.92-.59-1.43-.59-.52 0-1.04.2-1.43.59L10.3 9.45l-7.72 7.72c-.78.78-.78 2.05 0 2.83L4 21.41c.39.39.9.59 1.41.59.51 0 1.02-.2 1.41-.59l7.78-7.78 2.81-2.81c.8-.78.8-2.07 0-2.86zM5.41 20L4 18.59l7.72-7.72 1.47 1.35L5.41 20z\"/>\n",
              "  </svg>\n",
              "      </button>\n",
              "      \n",
              "  <style>\n",
              "    .colab-df-container {\n",
              "      display:flex;\n",
              "      flex-wrap:wrap;\n",
              "      gap: 12px;\n",
              "    }\n",
              "\n",
              "    .colab-df-convert {\n",
              "      background-color: #E8F0FE;\n",
              "      border: none;\n",
              "      border-radius: 50%;\n",
              "      cursor: pointer;\n",
              "      display: none;\n",
              "      fill: #1967D2;\n",
              "      height: 32px;\n",
              "      padding: 0 0 0 0;\n",
              "      width: 32px;\n",
              "    }\n",
              "\n",
              "    .colab-df-convert:hover {\n",
              "      background-color: #E2EBFA;\n",
              "      box-shadow: 0px 1px 2px rgba(60, 64, 67, 0.3), 0px 1px 3px 1px rgba(60, 64, 67, 0.15);\n",
              "      fill: #174EA6;\n",
              "    }\n",
              "\n",
              "    [theme=dark] .colab-df-convert {\n",
              "      background-color: #3B4455;\n",
              "      fill: #D2E3FC;\n",
              "    }\n",
              "\n",
              "    [theme=dark] .colab-df-convert:hover {\n",
              "      background-color: #434B5C;\n",
              "      box-shadow: 0px 1px 3px 1px rgba(0, 0, 0, 0.15);\n",
              "      filter: drop-shadow(0px 1px 2px rgba(0, 0, 0, 0.3));\n",
              "      fill: #FFFFFF;\n",
              "    }\n",
              "  </style>\n",
              "\n",
              "      <script>\n",
              "        const buttonEl =\n",
              "          document.querySelector('#df-e29acf24-50ca-4e4a-9549-d1a58e47f098 button.colab-df-convert');\n",
              "        buttonEl.style.display =\n",
              "          google.colab.kernel.accessAllowed ? 'block' : 'none';\n",
              "\n",
              "        async function convertToInteractive(key) {\n",
              "          const element = document.querySelector('#df-e29acf24-50ca-4e4a-9549-d1a58e47f098');\n",
              "          const dataTable =\n",
              "            await google.colab.kernel.invokeFunction('convertToInteractive',\n",
              "                                                     [key], {});\n",
              "          if (!dataTable) return;\n",
              "\n",
              "          const docLinkHtml = 'Like what you see? Visit the ' +\n",
              "            '<a target=\"_blank\" href=https://colab.research.google.com/notebooks/data_table.ipynb>data table notebook</a>'\n",
              "            + ' to learn more about interactive tables.';\n",
              "          element.innerHTML = '';\n",
              "          dataTable['output_type'] = 'display_data';\n",
              "          await google.colab.output.renderOutput(dataTable, element);\n",
              "          const docLink = document.createElement('div');\n",
              "          docLink.innerHTML = docLinkHtml;\n",
              "          element.appendChild(docLink);\n",
              "        }\n",
              "      </script>\n",
              "    </div>\n",
              "  </div>\n",
              "  "
            ]
          },
          "metadata": {}
        }
      ]
    },
    {
      "cell_type": "code",
      "source": [
        "ip_floats = ISP_df.limite_inferior_ip.apply(lambda x: not x.is_integer()).sum()\n",
        "print(f'Número de limites inferiores de endereço IP com decimal não-zero: {ip_floats}')"
      ],
      "metadata": {
        "colab": {
          "base_uri": "https://localhost:8080/"
        },
        "id": "Q-07pBE2DFia",
        "outputId": "7cc33b0f-a540-4205-fb9f-bab9a083030c"
      },
      "execution_count": null,
      "outputs": [
        {
          "output_type": "stream",
          "name": "stdout",
          "text": [
            "Número de limites inferiores de endereço IP com decimal não-zero: 0\n"
          ]
        }
      ]
    },
    {
      "cell_type": "markdown",
      "source": [
        "#### Ajuste no tipo de dado\n",
        "\n"
      ],
      "metadata": {
        "id": "RhUqA19FDBM6"
      }
    },
    {
      "cell_type": "code",
      "source": [
        "# Converte coluna 'limite_inferior_ip' para int\n",
        "ISP_df.limite_inferior_ip = ISP_df.limite_inferior_ip.astype(int)"
      ],
      "metadata": {
        "id": "RFUy4w3AFKEk"
      },
      "execution_count": null,
      "outputs": []
    },
    {
      "cell_type": "markdown",
      "source": [
        "### Limpando os dados\n",
        "\n"
      ],
      "metadata": {
        "id": "jl1lHsUqGJ3W"
      }
    },
    {
      "cell_type": "code",
      "source": [
        "# Classificação com base no número de IP's\n",
        "def isp_counts(isp):\n",
        "  pais = ISP_df[(ISP_df.limite_inferior_ip <= isp) & (ISP_df.limite_superior_ip >= isp)].pais\n",
        "\n",
        "  if pais.shape[0] == 1:\n",
        "    return print('Único')\n",
        "  elif pais.shape[0] > 1:\n",
        "    return print('Vários países')\n",
        "  elif pais.shape[0] == 0:\n",
        "    if isp > ISP_df.limite_superior_ip.max():\n",
        "      return print('Muito Grande')\n",
        "    elif isp < ISP_df.limite_inferior_ip.min():\n",
        "      return print('Muito Pequeno')\n",
        "    else:\n",
        "      return print('Faltando')\n",
        "\n",
        "ip_counts = fraude_df.ip.apply(isp_counts)"
      ],
      "metadata": {
        "id": "kF6llXhtGR6U"
      },
      "execution_count": null,
      "outputs": []
    },
    {
      "cell_type": "code",
      "source": [
        "# Função para pegar o país com base no IP\n",
        "def ip_para_pais(ip):\n",
        "  tmp = ISP_df[(ISP_df.limite_inferior_ip <= ip)\n",
        "              & (ISP_df.limite_superior_ip >= ip)].pais\n",
        "  if tmp.shape[0] == 1:\n",
        "    return tmp.iloc[0]\n",
        "  elif tmp.shape[0] < 1:\n",
        "    return 'Faltando'\n",
        "  elif tmp.shape[0] > 1:\n",
        "    return 'Erro'"
      ],
      "metadata": {
        "id": "bFBBtbFRKA7s"
      },
      "execution_count": null,
      "outputs": []
    },
    {
      "cell_type": "code",
      "source": [
        "# Cria coluna de PAÍS com base no IP\n",
        "fraude_df['pais'] = fraude_df.ip.apply(ip_para_pais)\n",
        "\n",
        "fraude_df.head()"
      ],
      "metadata": {
        "colab": {
          "base_uri": "https://localhost:8080/",
          "height": 206
        },
        "id": "KVfqjWDTMqeR",
        "outputId": "640e342e-2b4a-43be-8819-620ac6dc62e1"
      },
      "execution_count": null,
      "outputs": [
        {
          "output_type": "execute_result",
          "data": {
            "text/plain": [
              "       id             cadastro               compra  valor id_dispositivo  \\\n",
              "0   22058  2015-02-24 22:55:49  2015-04-18 02:47:11     34  QVPSPJUOCKZAR   \n",
              "1  333320  2015-06-07 20:39:50  2015-06-08 01:38:54     16  EOGFQPIZPYXFZ   \n",
              "2    1359  2015-01-01 18:52:44  2015-01-01 18:52:45     15  YSSKYOSJHPPLJ   \n",
              "3  150084  2015-04-28 21:13:25  2015-05-04 13:54:50     44  ATGTXKYKUDUQN   \n",
              "4  221365  2015-07-21 07:09:52  2015-09-09 18:40:53     39  NAUITBZFJKHWW   \n",
              "\n",
              "  fonte browser genero  idade            ip  fraude           pais  \n",
              "0   SEO  Chrome      M     39  7.327584e+08       0          Japan  \n",
              "1   Ads  Chrome      F     53  3.503114e+08       0  United States  \n",
              "2   SEO   Opera      M     53  2.621474e+09       1  United States  \n",
              "3   SEO  Safari      M     41  3.840542e+09       0       Faltando  \n",
              "4   Ads  Safari      M     45  4.155831e+08       0  United States  "
            ],
            "text/html": [
              "\n",
              "  <div id=\"df-8f6e1834-9eab-4632-9a40-c779fcf097d9\">\n",
              "    <div class=\"colab-df-container\">\n",
              "      <div>\n",
              "<style scoped>\n",
              "    .dataframe tbody tr th:only-of-type {\n",
              "        vertical-align: middle;\n",
              "    }\n",
              "\n",
              "    .dataframe tbody tr th {\n",
              "        vertical-align: top;\n",
              "    }\n",
              "\n",
              "    .dataframe thead th {\n",
              "        text-align: right;\n",
              "    }\n",
              "</style>\n",
              "<table border=\"1\" class=\"dataframe\">\n",
              "  <thead>\n",
              "    <tr style=\"text-align: right;\">\n",
              "      <th></th>\n",
              "      <th>id</th>\n",
              "      <th>cadastro</th>\n",
              "      <th>compra</th>\n",
              "      <th>valor</th>\n",
              "      <th>id_dispositivo</th>\n",
              "      <th>fonte</th>\n",
              "      <th>browser</th>\n",
              "      <th>genero</th>\n",
              "      <th>idade</th>\n",
              "      <th>ip</th>\n",
              "      <th>fraude</th>\n",
              "      <th>pais</th>\n",
              "    </tr>\n",
              "  </thead>\n",
              "  <tbody>\n",
              "    <tr>\n",
              "      <th>0</th>\n",
              "      <td>22058</td>\n",
              "      <td>2015-02-24 22:55:49</td>\n",
              "      <td>2015-04-18 02:47:11</td>\n",
              "      <td>34</td>\n",
              "      <td>QVPSPJUOCKZAR</td>\n",
              "      <td>SEO</td>\n",
              "      <td>Chrome</td>\n",
              "      <td>M</td>\n",
              "      <td>39</td>\n",
              "      <td>7.327584e+08</td>\n",
              "      <td>0</td>\n",
              "      <td>Japan</td>\n",
              "    </tr>\n",
              "    <tr>\n",
              "      <th>1</th>\n",
              "      <td>333320</td>\n",
              "      <td>2015-06-07 20:39:50</td>\n",
              "      <td>2015-06-08 01:38:54</td>\n",
              "      <td>16</td>\n",
              "      <td>EOGFQPIZPYXFZ</td>\n",
              "      <td>Ads</td>\n",
              "      <td>Chrome</td>\n",
              "      <td>F</td>\n",
              "      <td>53</td>\n",
              "      <td>3.503114e+08</td>\n",
              "      <td>0</td>\n",
              "      <td>United States</td>\n",
              "    </tr>\n",
              "    <tr>\n",
              "      <th>2</th>\n",
              "      <td>1359</td>\n",
              "      <td>2015-01-01 18:52:44</td>\n",
              "      <td>2015-01-01 18:52:45</td>\n",
              "      <td>15</td>\n",
              "      <td>YSSKYOSJHPPLJ</td>\n",
              "      <td>SEO</td>\n",
              "      <td>Opera</td>\n",
              "      <td>M</td>\n",
              "      <td>53</td>\n",
              "      <td>2.621474e+09</td>\n",
              "      <td>1</td>\n",
              "      <td>United States</td>\n",
              "    </tr>\n",
              "    <tr>\n",
              "      <th>3</th>\n",
              "      <td>150084</td>\n",
              "      <td>2015-04-28 21:13:25</td>\n",
              "      <td>2015-05-04 13:54:50</td>\n",
              "      <td>44</td>\n",
              "      <td>ATGTXKYKUDUQN</td>\n",
              "      <td>SEO</td>\n",
              "      <td>Safari</td>\n",
              "      <td>M</td>\n",
              "      <td>41</td>\n",
              "      <td>3.840542e+09</td>\n",
              "      <td>0</td>\n",
              "      <td>Faltando</td>\n",
              "    </tr>\n",
              "    <tr>\n",
              "      <th>4</th>\n",
              "      <td>221365</td>\n",
              "      <td>2015-07-21 07:09:52</td>\n",
              "      <td>2015-09-09 18:40:53</td>\n",
              "      <td>39</td>\n",
              "      <td>NAUITBZFJKHWW</td>\n",
              "      <td>Ads</td>\n",
              "      <td>Safari</td>\n",
              "      <td>M</td>\n",
              "      <td>45</td>\n",
              "      <td>4.155831e+08</td>\n",
              "      <td>0</td>\n",
              "      <td>United States</td>\n",
              "    </tr>\n",
              "  </tbody>\n",
              "</table>\n",
              "</div>\n",
              "      <button class=\"colab-df-convert\" onclick=\"convertToInteractive('df-8f6e1834-9eab-4632-9a40-c779fcf097d9')\"\n",
              "              title=\"Convert this dataframe to an interactive table.\"\n",
              "              style=\"display:none;\">\n",
              "        \n",
              "  <svg xmlns=\"http://www.w3.org/2000/svg\" height=\"24px\"viewBox=\"0 0 24 24\"\n",
              "       width=\"24px\">\n",
              "    <path d=\"M0 0h24v24H0V0z\" fill=\"none\"/>\n",
              "    <path d=\"M18.56 5.44l.94 2.06.94-2.06 2.06-.94-2.06-.94-.94-2.06-.94 2.06-2.06.94zm-11 1L8.5 8.5l.94-2.06 2.06-.94-2.06-.94L8.5 2.5l-.94 2.06-2.06.94zm10 10l.94 2.06.94-2.06 2.06-.94-2.06-.94-.94-2.06-.94 2.06-2.06.94z\"/><path d=\"M17.41 7.96l-1.37-1.37c-.4-.4-.92-.59-1.43-.59-.52 0-1.04.2-1.43.59L10.3 9.45l-7.72 7.72c-.78.78-.78 2.05 0 2.83L4 21.41c.39.39.9.59 1.41.59.51 0 1.02-.2 1.41-.59l7.78-7.78 2.81-2.81c.8-.78.8-2.07 0-2.86zM5.41 20L4 18.59l7.72-7.72 1.47 1.35L5.41 20z\"/>\n",
              "  </svg>\n",
              "      </button>\n",
              "      \n",
              "  <style>\n",
              "    .colab-df-container {\n",
              "      display:flex;\n",
              "      flex-wrap:wrap;\n",
              "      gap: 12px;\n",
              "    }\n",
              "\n",
              "    .colab-df-convert {\n",
              "      background-color: #E8F0FE;\n",
              "      border: none;\n",
              "      border-radius: 50%;\n",
              "      cursor: pointer;\n",
              "      display: none;\n",
              "      fill: #1967D2;\n",
              "      height: 32px;\n",
              "      padding: 0 0 0 0;\n",
              "      width: 32px;\n",
              "    }\n",
              "\n",
              "    .colab-df-convert:hover {\n",
              "      background-color: #E2EBFA;\n",
              "      box-shadow: 0px 1px 2px rgba(60, 64, 67, 0.3), 0px 1px 3px 1px rgba(60, 64, 67, 0.15);\n",
              "      fill: #174EA6;\n",
              "    }\n",
              "\n",
              "    [theme=dark] .colab-df-convert {\n",
              "      background-color: #3B4455;\n",
              "      fill: #D2E3FC;\n",
              "    }\n",
              "\n",
              "    [theme=dark] .colab-df-convert:hover {\n",
              "      background-color: #434B5C;\n",
              "      box-shadow: 0px 1px 3px 1px rgba(0, 0, 0, 0.15);\n",
              "      filter: drop-shadow(0px 1px 2px rgba(0, 0, 0, 0.3));\n",
              "      fill: #FFFFFF;\n",
              "    }\n",
              "  </style>\n",
              "\n",
              "      <script>\n",
              "        const buttonEl =\n",
              "          document.querySelector('#df-8f6e1834-9eab-4632-9a40-c779fcf097d9 button.colab-df-convert');\n",
              "        buttonEl.style.display =\n",
              "          google.colab.kernel.accessAllowed ? 'block' : 'none';\n",
              "\n",
              "        async function convertToInteractive(key) {\n",
              "          const element = document.querySelector('#df-8f6e1834-9eab-4632-9a40-c779fcf097d9');\n",
              "          const dataTable =\n",
              "            await google.colab.kernel.invokeFunction('convertToInteractive',\n",
              "                                                     [key], {});\n",
              "          if (!dataTable) return;\n",
              "\n",
              "          const docLinkHtml = 'Like what you see? Visit the ' +\n",
              "            '<a target=\"_blank\" href=https://colab.research.google.com/notebooks/data_table.ipynb>data table notebook</a>'\n",
              "            + ' to learn more about interactive tables.';\n",
              "          element.innerHTML = '';\n",
              "          dataTable['output_type'] = 'display_data';\n",
              "          await google.colab.output.renderOutput(dataTable, element);\n",
              "          const docLink = document.createElement('div');\n",
              "          docLink.innerHTML = docLinkHtml;\n",
              "          element.appendChild(docLink);\n",
              "        }\n",
              "      </script>\n",
              "    </div>\n",
              "  </div>\n",
              "  "
            ]
          },
          "metadata": {},
          "execution_count": 14
        }
      ]
    },
    {
      "cell_type": "code",
      "source": [
        "# Salvando o DF com as alterações\n",
        "fraude_df.to_csv('Dados_fraude_com_pais.csv')"
      ],
      "metadata": {
        "id": "Vrv_1y_ERxrS"
      },
      "execution_count": null,
      "outputs": []
    },
    {
      "cell_type": "markdown",
      "source": [
        "## 2 - AED (análise exploratória de dados)\n",
        "Vamos visualizar como o número de fraudes se relaciona com algumas das variáveis"
      ],
      "metadata": {
        "id": "powAY1MATNuz"
      }
    },
    {
      "cell_type": "markdown",
      "source": [
        "### Gênero"
      ],
      "metadata": {
        "id": "QCQ4RXztgoVa"
      }
    },
    {
      "cell_type": "code",
      "source": [
        "sns.countplot(x='genero', hue='fraude', data=fraude_df)\n",
        "plt.xlabel('Gênero', fontsize=15)\n",
        "plt.ylabel('Casos', fontsize=15)\n"
      ],
      "metadata": {
        "colab": {
          "base_uri": "https://localhost:8080/",
          "height": 302
        },
        "id": "Gh_W3ec1TRlw",
        "outputId": "5dedc7e1-f25a-4713-b402-3cfc43d2b167"
      },
      "execution_count": null,
      "outputs": [
        {
          "output_type": "execute_result",
          "data": {
            "text/plain": [
              "Text(0, 0.5, 'Casos')"
            ]
          },
          "metadata": {},
          "execution_count": 16
        },
        {
          "output_type": "display_data",
          "data": {
            "text/plain": [
              "<Figure size 432x288 with 1 Axes>"
            ],
            "image/png": "[encoded data removed]"
          },
          "metadata": {
            "needs_background": "light"
          }
        }
      ]
    },
    {
      "cell_type": "markdown",
      "source": [
        "A proporção de fraudes se mantém para homens e mulheres"
      ],
      "metadata": {
        "id": "qVTCgLUmjKBy"
      }
    },
    {
      "cell_type": "markdown",
      "source": [
        "### Valor da compra"
      ],
      "metadata": {
        "id": "IFOVBuEIgrUF"
      }
    },
    {
      "cell_type": "code",
      "source": [
        "sns.factorplot(x='fraude', y='valor', data=fraude_df)\n",
        "plt.xlabel('Não Fraude (0) / Fraude (1)', fontsize=15)\n",
        "plt.ylabel('Valor de compra', fontsize=15)"
      ],
      "metadata": {
        "colab": {
          "base_uri": "https://localhost:8080/",
          "height": 446
        },
        "id": "CxlUdNJoUkGB",
        "outputId": "8dc90953-5a86-483b-d631-ccde5f5dbdd1"
      },
      "execution_count": null,
      "outputs": [
        {
          "output_type": "stream",
          "name": "stderr",
          "text": [
            "/usr/local/lib/python3.7/dist-packages/seaborn/categorical.py:3717: UserWarning: The `factorplot` function has been renamed to `catplot`. The original name will be removed in a future release. Please update your code. Note that the default `kind` in `factorplot` (`'point'`) has changed `'strip'` in `catplot`.\n",
            "  warnings.warn(msg)\n"
          ]
        },
        {
          "output_type": "execute_result",
          "data": {
            "text/plain": [
              "Text(0.42499999999999716, 0.5, 'Valor de compra')"
            ]
          },
          "metadata": {},
          "execution_count": 17
        },
        {
          "output_type": "display_data",
          "data": {
            "text/plain": [
              "<Figure size 360x360 with 1 Axes>"
            ],
            "image/png": "[encoded data removed]"
          },
          "metadata": {
            "needs_background": "light"
          }
        }
      ]
    },
    {
      "cell_type": "markdown",
      "source": [
        "Nada pode-se concluir dessa visualização em relação as fraudes."
      ],
      "metadata": {
        "id": "1ghM8PJijCg2"
      }
    },
    {
      "cell_type": "markdown",
      "source": [
        "### Idade"
      ],
      "metadata": {
        "id": "kK5OAoaBg8YZ"
      }
    },
    {
      "cell_type": "code",
      "source": [
        "sns.factorplot(x='fraude', y='idade', data=fraude_df)\n",
        "plt.xlabel('Não Fraude (0) / Fraude (1)', fontsize=15)\n",
        "plt.ylabel('Idade', fontsize=15)"
      ],
      "metadata": {
        "colab": {
          "base_uri": "https://localhost:8080/",
          "height": 446
        },
        "id": "6nyHXD0KVf1G",
        "outputId": "1345d240-e5f2-431c-c1d1-93f58671414f"
      },
      "execution_count": null,
      "outputs": [
        {
          "output_type": "stream",
          "name": "stderr",
          "text": [
            "/usr/local/lib/python3.7/dist-packages/seaborn/categorical.py:3717: UserWarning: The `factorplot` function has been renamed to `catplot`. The original name will be removed in a future release. Please update your code. Note that the default `kind` in `factorplot` (`'point'`) has changed `'strip'` in `catplot`.\n",
            "  warnings.warn(msg)\n"
          ]
        },
        {
          "output_type": "execute_result",
          "data": {
            "text/plain": [
              "Text(-5.825000000000003, 0.5, 'Idade')"
            ]
          },
          "metadata": {},
          "execution_count": 18
        },
        {
          "output_type": "display_data",
          "data": {
            "text/plain": [
              "<Figure size 360x360 with 1 Axes>"
            ],
            "image/png": "[encoded data removed]"
          },
          "metadata": {
            "needs_background": "light"
          }
        }
      ]
    },
    {
      "cell_type": "markdown",
      "source": [
        "O gráfico aparenta mostrar uma tendencia de que as fraudes aparecem em clientes mais velhos, entretanto, ao observarmos o eixo Y, é possível notar que a diferença é de apenas alguns meses, sendo assim pouco relevante."
      ],
      "metadata": {
        "id": "VK74P-tuikXv"
      }
    },
    {
      "cell_type": "markdown",
      "source": [
        "### Fonte de Marketing"
      ],
      "metadata": {
        "id": "5oXaOVhnhD0S"
      }
    },
    {
      "cell_type": "code",
      "source": [
        "sns.countplot(x='fonte', hue='fraude', data=fraude_df)\n",
        "plt.xlabel('Fonte de marketing', fontsize=15)\n",
        "plt.ylabel('Contagem', fontsize=15)"
      ],
      "metadata": {
        "colab": {
          "base_uri": "https://localhost:8080/",
          "height": 302
        },
        "id": "wmtu5qF_X6Bu",
        "outputId": "7bff593f-4b4e-4a6c-aca1-ba6c74d3bac2"
      },
      "execution_count": null,
      "outputs": [
        {
          "output_type": "execute_result",
          "data": {
            "text/plain": [
              "Text(0, 0.5, 'Contagem')"
            ]
          },
          "metadata": {},
          "execution_count": 19
        },
        {
          "output_type": "display_data",
          "data": {
            "text/plain": [
              "<Figure size 432x288 with 1 Axes>"
            ],
            "image/png": "[encoded data removed]"
          },
          "metadata": {
            "needs_background": "light"
          }
        }
      ]
    },
    {
      "cell_type": "markdown",
      "source": [
        "As proporções parecem se manter, ou seja, o tipo de marketing não é um bom indicativo de fraude. Apesar disso esse gráfico pode ser útil para mostrar que o tipo de marketing 'Direct' não possui a mesma eficiencia que a dos outros."
      ],
      "metadata": {
        "id": "HCfiEy7tiQef"
      }
    },
    {
      "cell_type": "markdown",
      "source": [
        "### País"
      ],
      "metadata": {
        "id": "rcPDGs6dhJCH"
      }
    },
    {
      "cell_type": "code",
      "source": [
        "# Agrupando os dados por PAÍS\n",
        "sums_f = fraude_df[fraude_df['fraude']==1]['fraude'].groupby(fraude_df.pais).sum()\n",
        "sums_f = sums_f.to_frame().reset_index()\n",
        "\n",
        "sums_nf = fraude_df[fraude_df['fraude']==0]['fraude'].groupby(fraude_df.pais).sum()\n",
        "sums_nf = sums_nf.to_frame().reset_index()"
      ],
      "metadata": {
        "id": "aq6dzFGEYhx0"
      },
      "execution_count": null,
      "outputs": []
    },
    {
      "cell_type": "code",
      "source": [
        "f, ax = plt.subplots(figsize=(20,25))\n",
        "sns.set_color_codes('muted')\n",
        "sns.barplot(x='fraude', y='pais', data=sums_f.sort_values(by=['fraude'], ascending=False), label='Total', color='b')\n",
        "plt.xlabel('Contagem', fontsize=15)\n",
        "plt.ylabel('Países', fontsize=15)"
      ],
      "metadata": {
        "colab": {
          "base_uri": "https://localhost:8080/",
          "height": 1000
        },
        "id": "54koR5-WZN0x",
        "outputId": "e425fb91-49b0-4416-e2ce-6bf8254c5efe"
      },
      "execution_count": null,
      "outputs": [
        {
          "output_type": "execute_result",
          "data": {
            "text/plain": [
              "Text(0, 0.5, 'Países')"
            ]
          },
          "metadata": {},
          "execution_count": 21
        },
        {
          "output_type": "display_data",
          "data": {
            "text/plain": [
              "<Figure size 1440x1800 with 1 Axes>"
            ],
            "image/png": "[encoded data removed]"
          },
          "metadata": {
            "needs_background": "light"
          }
        }
      ]
    },
    {
      "cell_type": "markdown",
      "source": [
        "Apesar de prover um contexto dos países em que a empres mais atua, não se pode afirmar nada em relação as fraudes com base nesta visualização."
      ],
      "metadata": {
        "id": "8s5lN7KLhdAF"
      }
    },
    {
      "cell_type": "markdown",
      "source": [
        "### Investigando número de ID por usuario e por IP"
      ],
      "metadata": {
        "id": "90fu-aKubSu7"
      }
    },
    {
      "cell_type": "code",
      "source": [
        "# DF temporário para gerar as visualizações\n",
        "tmp_df = pd.DataFrame(columns=('fraude', 'id_por_dispositivo', 'id_por_ip'))\n",
        "tmp_df['fraude'] = fraude_df['fraude']\n",
        "\n",
        "userid_count = fraude_df.groupby('id_dispositivo').id.count()\n",
        "tmp_df['id_por_dispositivo'] = fraude_df.id_dispositivo.apply(lambda x:userid_count[x])\n",
        "\n",
        "userid_count2 = fraude_df.groupby('ip').id.count()\n",
        "tmp_df['id_por_ip'] = fraude_df.ip.apply(lambda x:userid_count2[x])\n",
        "\n"
      ],
      "metadata": {
        "id": "pXS0oywwa2-n"
      },
      "execution_count": null,
      "outputs": []
    },
    {
      "cell_type": "code",
      "source": [
        "sns.factorplot(x='fraude', y='id_por_dispositivo', data=tmp_df)\n",
        "plt.xlabel('Não Fraude (0) / Fraude (1)', fontsize=15)\n",
        "plt.ylabel('ID de usuário por dispositivo', fontsize=15)\n",
        "\n",
        "sns.factorplot(x='fraude', y='id_por_ip', data=tmp_df)\n",
        "plt.xlabel('Não Fraude (0) / Fraude (1)', fontsize=15)\n",
        "plt.ylabel('ID de usuário por endereço IP', fontsize=15)"
      ],
      "metadata": {
        "colab": {
          "base_uri": "https://localhost:8080/",
          "height": 838
        },
        "id": "GFQHKwAic_XW",
        "outputId": "0c033277-8cf2-490f-cf8e-8b566742c50f"
      },
      "execution_count": null,
      "outputs": [
        {
          "output_type": "stream",
          "name": "stderr",
          "text": [
            "/usr/local/lib/python3.7/dist-packages/seaborn/categorical.py:3717: UserWarning: The `factorplot` function has been renamed to `catplot`. The original name will be removed in a future release. Please update your code. Note that the default `kind` in `factorplot` (`'point'`) has changed `'strip'` in `catplot`.\n",
            "  warnings.warn(msg)\n",
            "/usr/local/lib/python3.7/dist-packages/seaborn/categorical.py:3717: UserWarning: The `factorplot` function has been renamed to `catplot`. The original name will be removed in a future release. Please update your code. Note that the default `kind` in `factorplot` (`'point'`) has changed `'strip'` in `catplot`.\n",
            "  warnings.warn(msg)\n"
          ]
        },
        {
          "output_type": "execute_result",
          "data": {
            "text/plain": [
              "Text(16.299999999999997, 0.5, 'ID de usuário por endereço IP')"
            ]
          },
          "metadata": {},
          "execution_count": 23
        },
        {
          "output_type": "display_data",
          "data": {
            "text/plain": [
              "<Figure size 360x360 with 1 Axes>"
            ],
            "image/png": "[encoded data removed]"
          },
          "metadata": {
            "needs_background": "light"
          }
        },
        {
          "output_type": "display_data",
          "data": {
            "text/plain": [
              "<Figure size 360x360 with 1 Axes>"
            ],
            "image/png": "[encoded data removed]"
          },
          "metadata": {
            "needs_background": "light"
          }
        }
      ]
    },
    {
      "cell_type": "markdown",
      "source": [
        "Aparentemente existe uma relação forte entre numero de ID's e as fraudes, uma vez que a média de ID's aumenta significativamente para os casos de fraudes."
      ],
      "metadata": {
        "id": "JZ0dwoTohRo6"
      }
    },
    {
      "cell_type": "markdown",
      "source": [
        "### Investigando período de compra"
      ],
      "metadata": {
        "id": "AbC6_YZWiL8r"
      }
    },
    {
      "cell_type": "code",
      "source": [
        "# convertendo o tipo de dado para data\n",
        "tmp_df[\"cadastro\"] = fraude_df.cadastro.apply(pd.to_datetime)\n",
        "tmp_df[\"compra\"] = fraude_df.compra.apply(pd.to_datetime)\n",
        "\n",
        "# função para calcular a diferença de tempo entre compra e cadastro\n",
        "tmp_df[\"tempo\"] = (tmp_df.compra - tmp_df.cadastro).apply(lambda x: x.seconds)"
      ],
      "metadata": {
        "id": "alhpQVZmiB_V"
      },
      "execution_count": null,
      "outputs": []
    },
    {
      "cell_type": "code",
      "source": [
        "sns.factorplot(x=\"fraude\", y=\"tempo\", data=tmp_df)\n",
        "plt.xlabel(\"Não fraude (0) / Fraude (1)\", fontsize=15)\n",
        "plt.ylabel(\"Tempo entre início e compra (segundos)\", fontsize=15)"
      ],
      "metadata": {
        "colab": {
          "base_uri": "https://localhost:8080/",
          "height": 446
        },
        "id": "IVbbwsWUkBlA",
        "outputId": "cf48c6c3-6dda-4d8a-9088-c91c361d8257"
      },
      "execution_count": null,
      "outputs": [
        {
          "output_type": "stream",
          "name": "stderr",
          "text": [
            "/usr/local/lib/python3.7/dist-packages/seaborn/categorical.py:3717: UserWarning: The `factorplot` function has been renamed to `catplot`. The original name will be removed in a future release. Please update your code. Note that the default `kind` in `factorplot` (`'point'`) has changed `'strip'` in `catplot`.\n",
            "  warnings.warn(msg)\n"
          ]
        },
        {
          "output_type": "execute_result",
          "data": {
            "text/plain": [
              "Text(-8.825000000000003, 0.5, 'Tempo entre início e compra (segundos)')"
            ]
          },
          "metadata": {},
          "execution_count": 25
        },
        {
          "output_type": "display_data",
          "data": {
            "text/plain": [
              "<Figure size 360x360 with 1 Axes>"
            ],
            "image/png": "[encoded data removed]"
          },
          "metadata": {
            "needs_background": "light"
          }
        }
      ]
    },
    {
      "cell_type": "markdown",
      "source": [
        "Esta visualização revela mais um dado importante: \n",
        "\n",
        "Ações fraudulentas tendem a ser mais rápidas, em média duram menos da metade do tempo de ações não fraudulentas."
      ],
      "metadata": {
        "id": "nRqlI5jfk2a7"
      }
    },
    {
      "cell_type": "code",
      "source": [
        "tmp_df.head()"
      ],
      "metadata": {
        "colab": {
          "base_uri": "https://localhost:8080/",
          "height": 206
        },
        "id": "lUC7cfhjlCmN",
        "outputId": "4a3f2ad7-74e1-4a48-c5a7-53fba4a00529"
      },
      "execution_count": null,
      "outputs": [
        {
          "output_type": "execute_result",
          "data": {
            "text/plain": [
              "   fraude  id_por_dispositivo  id_por_ip            cadastro  \\\n",
              "0       0                   1          1 2015-02-24 22:55:49   \n",
              "1       0                   1          1 2015-06-07 20:39:50   \n",
              "2       1                  12         12 2015-01-01 18:52:44   \n",
              "3       0                   1          1 2015-04-28 21:13:25   \n",
              "4       0                   1          1 2015-07-21 07:09:52   \n",
              "\n",
              "               compra  tempo  \n",
              "0 2015-04-18 02:47:11  13882  \n",
              "1 2015-06-08 01:38:54  17944  \n",
              "2 2015-01-01 18:52:45      1  \n",
              "3 2015-05-04 13:54:50  60085  \n",
              "4 2015-09-09 18:40:53  41461  "
            ],
            "text/html": [
              "\n",
              "  <div id=\"df-53d3f61f-9824-428f-9dc3-82ff4e423603\">\n",
              "    <div class=\"colab-df-container\">\n",
              "      <div>\n",
              "<style scoped>\n",
              "    .dataframe tbody tr th:only-of-type {\n",
              "        vertical-align: middle;\n",
              "    }\n",
              "\n",
              "    .dataframe tbody tr th {\n",
              "        vertical-align: top;\n",
              "    }\n",
              "\n",
              "    .dataframe thead th {\n",
              "        text-align: right;\n",
              "    }\n",
              "</style>\n",
              "<table border=\"1\" class=\"dataframe\">\n",
              "  <thead>\n",
              "    <tr style=\"text-align: right;\">\n",
              "      <th></th>\n",
              "      <th>fraude</th>\n",
              "      <th>id_por_dispositivo</th>\n",
              "      <th>id_por_ip</th>\n",
              "      <th>cadastro</th>\n",
              "      <th>compra</th>\n",
              "      <th>tempo</th>\n",
              "    </tr>\n",
              "  </thead>\n",
              "  <tbody>\n",
              "    <tr>\n",
              "      <th>0</th>\n",
              "      <td>0</td>\n",
              "      <td>1</td>\n",
              "      <td>1</td>\n",
              "      <td>2015-02-24 22:55:49</td>\n",
              "      <td>2015-04-18 02:47:11</td>\n",
              "      <td>13882</td>\n",
              "    </tr>\n",
              "    <tr>\n",
              "      <th>1</th>\n",
              "      <td>0</td>\n",
              "      <td>1</td>\n",
              "      <td>1</td>\n",
              "      <td>2015-06-07 20:39:50</td>\n",
              "      <td>2015-06-08 01:38:54</td>\n",
              "      <td>17944</td>\n",
              "    </tr>\n",
              "    <tr>\n",
              "      <th>2</th>\n",
              "      <td>1</td>\n",
              "      <td>12</td>\n",
              "      <td>12</td>\n",
              "      <td>2015-01-01 18:52:44</td>\n",
              "      <td>2015-01-01 18:52:45</td>\n",
              "      <td>1</td>\n",
              "    </tr>\n",
              "    <tr>\n",
              "      <th>3</th>\n",
              "      <td>0</td>\n",
              "      <td>1</td>\n",
              "      <td>1</td>\n",
              "      <td>2015-04-28 21:13:25</td>\n",
              "      <td>2015-05-04 13:54:50</td>\n",
              "      <td>60085</td>\n",
              "    </tr>\n",
              "    <tr>\n",
              "      <th>4</th>\n",
              "      <td>0</td>\n",
              "      <td>1</td>\n",
              "      <td>1</td>\n",
              "      <td>2015-07-21 07:09:52</td>\n",
              "      <td>2015-09-09 18:40:53</td>\n",
              "      <td>41461</td>\n",
              "    </tr>\n",
              "  </tbody>\n",
              "</table>\n",
              "</div>\n",
              "      <button class=\"colab-df-convert\" onclick=\"convertToInteractive('df-53d3f61f-9824-428f-9dc3-82ff4e423603')\"\n",
              "              title=\"Convert this dataframe to an interactive table.\"\n",
              "              style=\"display:none;\">\n",
              "        \n",
              "  <svg xmlns=\"http://www.w3.org/2000/svg\" height=\"24px\"viewBox=\"0 0 24 24\"\n",
              "       width=\"24px\">\n",
              "    <path d=\"M0 0h24v24H0V0z\" fill=\"none\"/>\n",
              "    <path d=\"M18.56 5.44l.94 2.06.94-2.06 2.06-.94-2.06-.94-.94-2.06-.94 2.06-2.06.94zm-11 1L8.5 8.5l.94-2.06 2.06-.94-2.06-.94L8.5 2.5l-.94 2.06-2.06.94zm10 10l.94 2.06.94-2.06 2.06-.94-2.06-.94-.94-2.06-.94 2.06-2.06.94z\"/><path d=\"M17.41 7.96l-1.37-1.37c-.4-.4-.92-.59-1.43-.59-.52 0-1.04.2-1.43.59L10.3 9.45l-7.72 7.72c-.78.78-.78 2.05 0 2.83L4 21.41c.39.39.9.59 1.41.59.51 0 1.02-.2 1.41-.59l7.78-7.78 2.81-2.81c.8-.78.8-2.07 0-2.86zM5.41 20L4 18.59l7.72-7.72 1.47 1.35L5.41 20z\"/>\n",
              "  </svg>\n",
              "      </button>\n",
              "      \n",
              "  <style>\n",
              "    .colab-df-container {\n",
              "      display:flex;\n",
              "      flex-wrap:wrap;\n",
              "      gap: 12px;\n",
              "    }\n",
              "\n",
              "    .colab-df-convert {\n",
              "      background-color: #E8F0FE;\n",
              "      border: none;\n",
              "      border-radius: 50%;\n",
              "      cursor: pointer;\n",
              "      display: none;\n",
              "      fill: #1967D2;\n",
              "      height: 32px;\n",
              "      padding: 0 0 0 0;\n",
              "      width: 32px;\n",
              "    }\n",
              "\n",
              "    .colab-df-convert:hover {\n",
              "      background-color: #E2EBFA;\n",
              "      box-shadow: 0px 1px 2px rgba(60, 64, 67, 0.3), 0px 1px 3px 1px rgba(60, 64, 67, 0.15);\n",
              "      fill: #174EA6;\n",
              "    }\n",
              "\n",
              "    [theme=dark] .colab-df-convert {\n",
              "      background-color: #3B4455;\n",
              "      fill: #D2E3FC;\n",
              "    }\n",
              "\n",
              "    [theme=dark] .colab-df-convert:hover {\n",
              "      background-color: #434B5C;\n",
              "      box-shadow: 0px 1px 3px 1px rgba(0, 0, 0, 0.15);\n",
              "      filter: drop-shadow(0px 1px 2px rgba(0, 0, 0, 0.3));\n",
              "      fill: #FFFFFF;\n",
              "    }\n",
              "  </style>\n",
              "\n",
              "      <script>\n",
              "        const buttonEl =\n",
              "          document.querySelector('#df-53d3f61f-9824-428f-9dc3-82ff4e423603 button.colab-df-convert');\n",
              "        buttonEl.style.display =\n",
              "          google.colab.kernel.accessAllowed ? 'block' : 'none';\n",
              "\n",
              "        async function convertToInteractive(key) {\n",
              "          const element = document.querySelector('#df-53d3f61f-9824-428f-9dc3-82ff4e423603');\n",
              "          const dataTable =\n",
              "            await google.colab.kernel.invokeFunction('convertToInteractive',\n",
              "                                                     [key], {});\n",
              "          if (!dataTable) return;\n",
              "\n",
              "          const docLinkHtml = 'Like what you see? Visit the ' +\n",
              "            '<a target=\"_blank\" href=https://colab.research.google.com/notebooks/data_table.ipynb>data table notebook</a>'\n",
              "            + ' to learn more about interactive tables.';\n",
              "          element.innerHTML = '';\n",
              "          dataTable['output_type'] = 'display_data';\n",
              "          await google.colab.output.renderOutput(dataTable, element);\n",
              "          const docLink = document.createElement('div');\n",
              "          docLink.innerHTML = docLinkHtml;\n",
              "          element.appendChild(docLink);\n",
              "        }\n",
              "      </script>\n",
              "    </div>\n",
              "  </div>\n",
              "  "
            ]
          },
          "metadata": {},
          "execution_count": 26
        }
      ]
    },
    {
      "cell_type": "markdown",
      "source": [
        "É possível perceber nos dados acima que a fraude do item 2 foi uma compra realizada em 1 segundo por um dispositivo com 12 ID's diferentes, ou seja, muito provavelmente a compra foi realizada por um robo."
      ],
      "metadata": {
        "id": "_oYStoZFlv0v"
      }
    },
    {
      "cell_type": "markdown",
      "source": [
        "### Numero de fraudes por **HORA** do **DIA**"
      ],
      "metadata": {
        "id": "uY5G6nMcnUWM"
      }
    },
    {
      "cell_type": "code",
      "source": [
        "tmp_df[tmp_df[\"fraude\"] == 1].cadastro.apply(lambda x: x.hour).hist()\n",
        "plt.xlabel(\"Hora do dia\", fontsize=15)\n",
        "plt.ylabel(\"Contagem\", fontsize=15)"
      ],
      "metadata": {
        "colab": {
          "base_uri": "https://localhost:8080/",
          "height": 302
        },
        "id": "cuJ8gZRRmAcv",
        "outputId": "e2fd3373-69b7-4e45-e4b4-9dc928645e17"
      },
      "execution_count": null,
      "outputs": [
        {
          "output_type": "execute_result",
          "data": {
            "text/plain": [
              "Text(0, 0.5, 'Contagem')"
            ]
          },
          "metadata": {},
          "execution_count": 27
        },
        {
          "output_type": "display_data",
          "data": {
            "text/plain": [
              "<Figure size 432x288 with 1 Axes>"
            ],
            "image/png": "[encoded data removed]"
          },
          "metadata": {
            "needs_background": "light"
          }
        }
      ]
    },
    {
      "cell_type": "markdown",
      "source": [
        "Apesar de apresentar alguns picos, o horário do dia não parece ter grande influência em relação às fraudes."
      ],
      "metadata": {
        "id": "1GBF0bS_mQ3x"
      }
    },
    {
      "cell_type": "markdown",
      "source": [
        "### Fraudes por **DIA** da **SEMANA**"
      ],
      "metadata": {
        "id": "I__hFkwInXPV"
      }
    },
    {
      "cell_type": "code",
      "source": [
        "tmp_df[tmp_df[\"fraude\"] == 1].cadastro.apply(lambda x: x.dayofweek).hist()\n",
        "plt.xlabel(\"Dia da semana\", fontsize=15)\n",
        "plt.ylabel(\"Contagem\", fontsize=15)"
      ],
      "metadata": {
        "colab": {
          "base_uri": "https://localhost:8080/",
          "height": 302
        },
        "id": "Zfd56Ofymubo",
        "outputId": "6b11a3f3-aa70-47fd-e593-933bc18656f7"
      },
      "execution_count": null,
      "outputs": [
        {
          "output_type": "execute_result",
          "data": {
            "text/plain": [
              "Text(0, 0.5, 'Contagem')"
            ]
          },
          "metadata": {},
          "execution_count": 28
        },
        {
          "output_type": "display_data",
          "data": {
            "text/plain": [
              "<Figure size 432x288 with 1 Axes>"
            ],
            "image/png": "[encoded data removed]"
          },
          "metadata": {
            "needs_background": "light"
          }
        }
      ]
    },
    {
      "cell_type": "markdown",
      "source": [
        "O dia da semana também apresenta pouca influência em relação ao número de faudes."
      ],
      "metadata": {
        "id": "BkTM5HfnnIM4"
      }
    },
    {
      "cell_type": "markdown",
      "source": [
        "### Fraudes por **SEMANA** do **ANO**"
      ],
      "metadata": {
        "id": "kFS-Rq2zne5-"
      }
    },
    {
      "cell_type": "code",
      "source": [
        "tmp_df[tmp_df[\"fraude\"] == 1].cadastro.apply(lambda x: x.week).hist()\n",
        "plt.xlabel(\"Semana do ano\", fontsize=15)\n",
        "plt.ylabel(\"Contagem\", fontsize=15)"
      ],
      "metadata": {
        "colab": {
          "base_uri": "https://localhost:8080/",
          "height": 302
        },
        "id": "UsCa4U9znRk3",
        "outputId": "f6dec89e-73f7-46e9-ef34-780aa845a805"
      },
      "execution_count": null,
      "outputs": [
        {
          "output_type": "execute_result",
          "data": {
            "text/plain": [
              "Text(0, 0.5, 'Contagem')"
            ]
          },
          "metadata": {},
          "execution_count": 29
        },
        {
          "output_type": "display_data",
          "data": {
            "text/plain": [
              "<Figure size 432x288 with 1 Axes>"
            ],
            "image/png": "[encoded data removed]"
          },
          "metadata": {
            "needs_background": "light"
          }
        }
      ]
    },
    {
      "cell_type": "markdown",
      "source": [
        "Aparentemente há uma quantidade significativamente maior de fraudes nas primeiras semanas do ano! \n",
        "\n",
        "A partir desta visualização pode-se recomendar uma atenção dobrada para a equipe de segurança neste período de início de ano."
      ],
      "metadata": {
        "id": "f1pd0W4YnnST"
      }
    },
    {
      "cell_type": "markdown",
      "source": [
        "## 3 - Engenharia de recursos"
      ],
      "metadata": {
        "id": "Xd7Pr3MVtpYZ"
      }
    },
    {
      "cell_type": "markdown",
      "source": [
        "### Novas medidas"
      ],
      "metadata": {
        "id": "ttxgPRWUxvXM"
      }
    },
    {
      "cell_type": "code",
      "source": [
        "# Criando coluna com numero de ID's por dispositivo no DF de fraudes\n",
        "userid_count3 = fraude_df.groupby(\"id_dispositivo\").id.count()\n",
        "fraude_df[\"id_por_dispositivo\"] = fraude_df.id_dispositivo.apply(lambda x: userid_count3[x])\n",
        "\n",
        "fraude_df.head()"
      ],
      "metadata": {
        "colab": {
          "base_uri": "https://localhost:8080/",
          "height": 337
        },
        "id": "wOtOUZv7se2S",
        "outputId": "fef62db7-0b61-4f71-8f60-a452cd716b98"
      },
      "execution_count": null,
      "outputs": [
        {
          "output_type": "execute_result",
          "data": {
            "text/plain": [
              "       id             cadastro               compra  valor id_dispositivo  \\\n",
              "0   22058  2015-02-24 22:55:49  2015-04-18 02:47:11     34  QVPSPJUOCKZAR   \n",
              "1  333320  2015-06-07 20:39:50  2015-06-08 01:38:54     16  EOGFQPIZPYXFZ   \n",
              "2    1359  2015-01-01 18:52:44  2015-01-01 18:52:45     15  YSSKYOSJHPPLJ   \n",
              "3  150084  2015-04-28 21:13:25  2015-05-04 13:54:50     44  ATGTXKYKUDUQN   \n",
              "4  221365  2015-07-21 07:09:52  2015-09-09 18:40:53     39  NAUITBZFJKHWW   \n",
              "\n",
              "  fonte browser genero  idade            ip  fraude           pais  \\\n",
              "0   SEO  Chrome      M     39  7.327584e+08       0          Japan   \n",
              "1   Ads  Chrome      F     53  3.503114e+08       0  United States   \n",
              "2   SEO   Opera      M     53  2.621474e+09       1  United States   \n",
              "3   SEO  Safari      M     41  3.840542e+09       0       Faltando   \n",
              "4   Ads  Safari      M     45  4.155831e+08       0  United States   \n",
              "\n",
              "   id_por_dispositivo  \n",
              "0                   1  \n",
              "1                   1  \n",
              "2                  12  \n",
              "3                   1  \n",
              "4                   1  "
            ],
            "text/html": [
              "\n",
              "  <div id=\"df-4787cd9c-396d-441f-9e48-e9481dd5d8c6\">\n",
              "    <div class=\"colab-df-container\">\n",
              "      <div>\n",
              "<style scoped>\n",
              "    .dataframe tbody tr th:only-of-type {\n",
              "        vertical-align: middle;\n",
              "    }\n",
              "\n",
              "    .dataframe tbody tr th {\n",
              "        vertical-align: top;\n",
              "    }\n",
              "\n",
              "    .dataframe thead th {\n",
              "        text-align: right;\n",
              "    }\n",
              "</style>\n",
              "<table border=\"1\" class=\"dataframe\">\n",
              "  <thead>\n",
              "    <tr style=\"text-align: right;\">\n",
              "      <th></th>\n",
              "      <th>id</th>\n",
              "      <th>cadastro</th>\n",
              "      <th>compra</th>\n",
              "      <th>valor</th>\n",
              "      <th>id_dispositivo</th>\n",
              "      <th>fonte</th>\n",
              "      <th>browser</th>\n",
              "      <th>genero</th>\n",
              "      <th>idade</th>\n",
              "      <th>ip</th>\n",
              "      <th>fraude</th>\n",
              "      <th>pais</th>\n",
              "      <th>id_por_dispositivo</th>\n",
              "    </tr>\n",
              "  </thead>\n",
              "  <tbody>\n",
              "    <tr>\n",
              "      <th>0</th>\n",
              "      <td>22058</td>\n",
              "      <td>2015-02-24 22:55:49</td>\n",
              "      <td>2015-04-18 02:47:11</td>\n",
              "      <td>34</td>\n",
              "      <td>QVPSPJUOCKZAR</td>\n",
              "      <td>SEO</td>\n",
              "      <td>Chrome</td>\n",
              "      <td>M</td>\n",
              "      <td>39</td>\n",
              "      <td>7.327584e+08</td>\n",
              "      <td>0</td>\n",
              "      <td>Japan</td>\n",
              "      <td>1</td>\n",
              "    </tr>\n",
              "    <tr>\n",
              "      <th>1</th>\n",
              "      <td>333320</td>\n",
              "      <td>2015-06-07 20:39:50</td>\n",
              "      <td>2015-06-08 01:38:54</td>\n",
              "      <td>16</td>\n",
              "      <td>EOGFQPIZPYXFZ</td>\n",
              "      <td>Ads</td>\n",
              "      <td>Chrome</td>\n",
              "      <td>F</td>\n",
              "      <td>53</td>\n",
              "      <td>3.503114e+08</td>\n",
              "      <td>0</td>\n",
              "      <td>United States</td>\n",
              "      <td>1</td>\n",
              "    </tr>\n",
              "    <tr>\n",
              "      <th>2</th>\n",
              "      <td>1359</td>\n",
              "      <td>2015-01-01 18:52:44</td>\n",
              "      <td>2015-01-01 18:52:45</td>\n",
              "      <td>15</td>\n",
              "      <td>YSSKYOSJHPPLJ</td>\n",
              "      <td>SEO</td>\n",
              "      <td>Opera</td>\n",
              "      <td>M</td>\n",
              "      <td>53</td>\n",
              "      <td>2.621474e+09</td>\n",
              "      <td>1</td>\n",
              "      <td>United States</td>\n",
              "      <td>12</td>\n",
              "    </tr>\n",
              "    <tr>\n",
              "      <th>3</th>\n",
              "      <td>150084</td>\n",
              "      <td>2015-04-28 21:13:25</td>\n",
              "      <td>2015-05-04 13:54:50</td>\n",
              "      <td>44</td>\n",
              "      <td>ATGTXKYKUDUQN</td>\n",
              "      <td>SEO</td>\n",
              "      <td>Safari</td>\n",
              "      <td>M</td>\n",
              "      <td>41</td>\n",
              "      <td>3.840542e+09</td>\n",
              "      <td>0</td>\n",
              "      <td>Faltando</td>\n",
              "      <td>1</td>\n",
              "    </tr>\n",
              "    <tr>\n",
              "      <th>4</th>\n",
              "      <td>221365</td>\n",
              "      <td>2015-07-21 07:09:52</td>\n",
              "      <td>2015-09-09 18:40:53</td>\n",
              "      <td>39</td>\n",
              "      <td>NAUITBZFJKHWW</td>\n",
              "      <td>Ads</td>\n",
              "      <td>Safari</td>\n",
              "      <td>M</td>\n",
              "      <td>45</td>\n",
              "      <td>4.155831e+08</td>\n",
              "      <td>0</td>\n",
              "      <td>United States</td>\n",
              "      <td>1</td>\n",
              "    </tr>\n",
              "  </tbody>\n",
              "</table>\n",
              "</div>\n",
              "      <button class=\"colab-df-convert\" onclick=\"convertToInteractive('df-4787cd9c-396d-441f-9e48-e9481dd5d8c6')\"\n",
              "              title=\"Convert this dataframe to an interactive table.\"\n",
              "              style=\"display:none;\">\n",
              "        \n",
              "  <svg xmlns=\"http://www.w3.org/2000/svg\" height=\"24px\"viewBox=\"0 0 24 24\"\n",
              "       width=\"24px\">\n",
              "    <path d=\"M0 0h24v24H0V0z\" fill=\"none\"/>\n",
              "    <path d=\"M18.56 5.44l.94 2.06.94-2.06 2.06-.94-2.06-.94-.94-2.06-.94 2.06-2.06.94zm-11 1L8.5 8.5l.94-2.06 2.06-.94-2.06-.94L8.5 2.5l-.94 2.06-2.06.94zm10 10l.94 2.06.94-2.06 2.06-.94-2.06-.94-.94-2.06-.94 2.06-2.06.94z\"/><path d=\"M17.41 7.96l-1.37-1.37c-.4-.4-.92-.59-1.43-.59-.52 0-1.04.2-1.43.59L10.3 9.45l-7.72 7.72c-.78.78-.78 2.05 0 2.83L4 21.41c.39.39.9.59 1.41.59.51 0 1.02-.2 1.41-.59l7.78-7.78 2.81-2.81c.8-.78.8-2.07 0-2.86zM5.41 20L4 18.59l7.72-7.72 1.47 1.35L5.41 20z\"/>\n",
              "  </svg>\n",
              "      </button>\n",
              "      \n",
              "  <style>\n",
              "    .colab-df-container {\n",
              "      display:flex;\n",
              "      flex-wrap:wrap;\n",
              "      gap: 12px;\n",
              "    }\n",
              "\n",
              "    .colab-df-convert {\n",
              "      background-color: #E8F0FE;\n",
              "      border: none;\n",
              "      border-radius: 50%;\n",
              "      cursor: pointer;\n",
              "      display: none;\n",
              "      fill: #1967D2;\n",
              "      height: 32px;\n",
              "      padding: 0 0 0 0;\n",
              "      width: 32px;\n",
              "    }\n",
              "\n",
              "    .colab-df-convert:hover {\n",
              "      background-color: #E2EBFA;\n",
              "      box-shadow: 0px 1px 2px rgba(60, 64, 67, 0.3), 0px 1px 3px 1px rgba(60, 64, 67, 0.15);\n",
              "      fill: #174EA6;\n",
              "    }\n",
              "\n",
              "    [theme=dark] .colab-df-convert {\n",
              "      background-color: #3B4455;\n",
              "      fill: #D2E3FC;\n",
              "    }\n",
              "\n",
              "    [theme=dark] .colab-df-convert:hover {\n",
              "      background-color: #434B5C;\n",
              "      box-shadow: 0px 1px 3px 1px rgba(0, 0, 0, 0.15);\n",
              "      filter: drop-shadow(0px 1px 2px rgba(0, 0, 0, 0.3));\n",
              "      fill: #FFFFFF;\n",
              "    }\n",
              "  </style>\n",
              "\n",
              "      <script>\n",
              "        const buttonEl =\n",
              "          document.querySelector('#df-4787cd9c-396d-441f-9e48-e9481dd5d8c6 button.colab-df-convert');\n",
              "        buttonEl.style.display =\n",
              "          google.colab.kernel.accessAllowed ? 'block' : 'none';\n",
              "\n",
              "        async function convertToInteractive(key) {\n",
              "          const element = document.querySelector('#df-4787cd9c-396d-441f-9e48-e9481dd5d8c6');\n",
              "          const dataTable =\n",
              "            await google.colab.kernel.invokeFunction('convertToInteractive',\n",
              "                                                     [key], {});\n",
              "          if (!dataTable) return;\n",
              "\n",
              "          const docLinkHtml = 'Like what you see? Visit the ' +\n",
              "            '<a target=\"_blank\" href=https://colab.research.google.com/notebooks/data_table.ipynb>data table notebook</a>'\n",
              "            + ' to learn more about interactive tables.';\n",
              "          element.innerHTML = '';\n",
              "          dataTable['output_type'] = 'display_data';\n",
              "          await google.colab.output.renderOutput(dataTable, element);\n",
              "          const docLink = document.createElement('div');\n",
              "          docLink.innerHTML = docLinkHtml;\n",
              "          element.appendChild(docLink);\n",
              "        }\n",
              "      </script>\n",
              "    </div>\n",
              "  </div>\n",
              "  "
            ]
          },
          "metadata": {},
          "execution_count": 30
        }
      ]
    },
    {
      "cell_type": "code",
      "source": [
        "# Criando coluna com numero de ID's por IP no DF de fraudes\n",
        "userid_count4 = fraude_df.groupby(\"ip\").id.count()\n",
        "fraude_df[\"id_por_ip\"] = fraude_df.ip.apply(lambda x: userid_count4[x])\n",
        "\n",
        "fraude_df.head()"
      ],
      "metadata": {
        "colab": {
          "base_uri": "https://localhost:8080/",
          "height": 444
        },
        "id": "uGy0Nkx8wX-n",
        "outputId": "ea586ecb-1465-4252-fa07-5f17a472ea1a"
      },
      "execution_count": null,
      "outputs": [
        {
          "output_type": "execute_result",
          "data": {
            "text/plain": [
              "       id             cadastro               compra  valor id_dispositivo  \\\n",
              "0   22058  2015-02-24 22:55:49  2015-04-18 02:47:11     34  QVPSPJUOCKZAR   \n",
              "1  333320  2015-06-07 20:39:50  2015-06-08 01:38:54     16  EOGFQPIZPYXFZ   \n",
              "2    1359  2015-01-01 18:52:44  2015-01-01 18:52:45     15  YSSKYOSJHPPLJ   \n",
              "3  150084  2015-04-28 21:13:25  2015-05-04 13:54:50     44  ATGTXKYKUDUQN   \n",
              "4  221365  2015-07-21 07:09:52  2015-09-09 18:40:53     39  NAUITBZFJKHWW   \n",
              "\n",
              "  fonte browser genero  idade            ip  fraude           pais  \\\n",
              "0   SEO  Chrome      M     39  7.327584e+08       0          Japan   \n",
              "1   Ads  Chrome      F     53  3.503114e+08       0  United States   \n",
              "2   SEO   Opera      M     53  2.621474e+09       1  United States   \n",
              "3   SEO  Safari      M     41  3.840542e+09       0       Faltando   \n",
              "4   Ads  Safari      M     45  4.155831e+08       0  United States   \n",
              "\n",
              "   id_por_dispositivo  id_por_ip  \n",
              "0                   1          1  \n",
              "1                   1          1  \n",
              "2                  12         12  \n",
              "3                   1          1  \n",
              "4                   1          1  "
            ],
            "text/html": [
              "\n",
              "  <div id=\"df-42049aad-75c7-437a-ae4a-83c847fb4787\">\n",
              "    <div class=\"colab-df-container\">\n",
              "      <div>\n",
              "<style scoped>\n",
              "    .dataframe tbody tr th:only-of-type {\n",
              "        vertical-align: middle;\n",
              "    }\n",
              "\n",
              "    .dataframe tbody tr th {\n",
              "        vertical-align: top;\n",
              "    }\n",
              "\n",
              "    .dataframe thead th {\n",
              "        text-align: right;\n",
              "    }\n",
              "</style>\n",
              "<table border=\"1\" class=\"dataframe\">\n",
              "  <thead>\n",
              "    <tr style=\"text-align: right;\">\n",
              "      <th></th>\n",
              "      <th>id</th>\n",
              "      <th>cadastro</th>\n",
              "      <th>compra</th>\n",
              "      <th>valor</th>\n",
              "      <th>id_dispositivo</th>\n",
              "      <th>fonte</th>\n",
              "      <th>browser</th>\n",
              "      <th>genero</th>\n",
              "      <th>idade</th>\n",
              "      <th>ip</th>\n",
              "      <th>fraude</th>\n",
              "      <th>pais</th>\n",
              "      <th>id_por_dispositivo</th>\n",
              "      <th>id_por_ip</th>\n",
              "    </tr>\n",
              "  </thead>\n",
              "  <tbody>\n",
              "    <tr>\n",
              "      <th>0</th>\n",
              "      <td>22058</td>\n",
              "      <td>2015-02-24 22:55:49</td>\n",
              "      <td>2015-04-18 02:47:11</td>\n",
              "      <td>34</td>\n",
              "      <td>QVPSPJUOCKZAR</td>\n",
              "      <td>SEO</td>\n",
              "      <td>Chrome</td>\n",
              "      <td>M</td>\n",
              "      <td>39</td>\n",
              "      <td>7.327584e+08</td>\n",
              "      <td>0</td>\n",
              "      <td>Japan</td>\n",
              "      <td>1</td>\n",
              "      <td>1</td>\n",
              "    </tr>\n",
              "    <tr>\n",
              "      <th>1</th>\n",
              "      <td>333320</td>\n",
              "      <td>2015-06-07 20:39:50</td>\n",
              "      <td>2015-06-08 01:38:54</td>\n",
              "      <td>16</td>\n",
              "      <td>EOGFQPIZPYXFZ</td>\n",
              "      <td>Ads</td>\n",
              "      <td>Chrome</td>\n",
              "      <td>F</td>\n",
              "      <td>53</td>\n",
              "      <td>3.503114e+08</td>\n",
              "      <td>0</td>\n",
              "      <td>United States</td>\n",
              "      <td>1</td>\n",
              "      <td>1</td>\n",
              "    </tr>\n",
              "    <tr>\n",
              "      <th>2</th>\n",
              "      <td>1359</td>\n",
              "      <td>2015-01-01 18:52:44</td>\n",
              "      <td>2015-01-01 18:52:45</td>\n",
              "      <td>15</td>\n",
              "      <td>YSSKYOSJHPPLJ</td>\n",
              "      <td>SEO</td>\n",
              "      <td>Opera</td>\n",
              "      <td>M</td>\n",
              "      <td>53</td>\n",
              "      <td>2.621474e+09</td>\n",
              "      <td>1</td>\n",
              "      <td>United States</td>\n",
              "      <td>12</td>\n",
              "      <td>12</td>\n",
              "    </tr>\n",
              "    <tr>\n",
              "      <th>3</th>\n",
              "      <td>150084</td>\n",
              "      <td>2015-04-28 21:13:25</td>\n",
              "      <td>2015-05-04 13:54:50</td>\n",
              "      <td>44</td>\n",
              "      <td>ATGTXKYKUDUQN</td>\n",
              "      <td>SEO</td>\n",
              "      <td>Safari</td>\n",
              "      <td>M</td>\n",
              "      <td>41</td>\n",
              "      <td>3.840542e+09</td>\n",
              "      <td>0</td>\n",
              "      <td>Faltando</td>\n",
              "      <td>1</td>\n",
              "      <td>1</td>\n",
              "    </tr>\n",
              "    <tr>\n",
              "      <th>4</th>\n",
              "      <td>221365</td>\n",
              "      <td>2015-07-21 07:09:52</td>\n",
              "      <td>2015-09-09 18:40:53</td>\n",
              "      <td>39</td>\n",
              "      <td>NAUITBZFJKHWW</td>\n",
              "      <td>Ads</td>\n",
              "      <td>Safari</td>\n",
              "      <td>M</td>\n",
              "      <td>45</td>\n",
              "      <td>4.155831e+08</td>\n",
              "      <td>0</td>\n",
              "      <td>United States</td>\n",
              "      <td>1</td>\n",
              "      <td>1</td>\n",
              "    </tr>\n",
              "  </tbody>\n",
              "</table>\n",
              "</div>\n",
              "      <button class=\"colab-df-convert\" onclick=\"convertToInteractive('df-42049aad-75c7-437a-ae4a-83c847fb4787')\"\n",
              "              title=\"Convert this dataframe to an interactive table.\"\n",
              "              style=\"display:none;\">\n",
              "        \n",
              "  <svg xmlns=\"http://www.w3.org/2000/svg\" height=\"24px\"viewBox=\"0 0 24 24\"\n",
              "       width=\"24px\">\n",
              "    <path d=\"M0 0h24v24H0V0z\" fill=\"none\"/>\n",
              "    <path d=\"M18.56 5.44l.94 2.06.94-2.06 2.06-.94-2.06-.94-.94-2.06-.94 2.06-2.06.94zm-11 1L8.5 8.5l.94-2.06 2.06-.94-2.06-.94L8.5 2.5l-.94 2.06-2.06.94zm10 10l.94 2.06.94-2.06 2.06-.94-2.06-.94-.94-2.06-.94 2.06-2.06.94z\"/><path d=\"M17.41 7.96l-1.37-1.37c-.4-.4-.92-.59-1.43-.59-.52 0-1.04.2-1.43.59L10.3 9.45l-7.72 7.72c-.78.78-.78 2.05 0 2.83L4 21.41c.39.39.9.59 1.41.59.51 0 1.02-.2 1.41-.59l7.78-7.78 2.81-2.81c.8-.78.8-2.07 0-2.86zM5.41 20L4 18.59l7.72-7.72 1.47 1.35L5.41 20z\"/>\n",
              "  </svg>\n",
              "      </button>\n",
              "      \n",
              "  <style>\n",
              "    .colab-df-container {\n",
              "      display:flex;\n",
              "      flex-wrap:wrap;\n",
              "      gap: 12px;\n",
              "    }\n",
              "\n",
              "    .colab-df-convert {\n",
              "      background-color: #E8F0FE;\n",
              "      border: none;\n",
              "      border-radius: 50%;\n",
              "      cursor: pointer;\n",
              "      display: none;\n",
              "      fill: #1967D2;\n",
              "      height: 32px;\n",
              "      padding: 0 0 0 0;\n",
              "      width: 32px;\n",
              "    }\n",
              "\n",
              "    .colab-df-convert:hover {\n",
              "      background-color: #E2EBFA;\n",
              "      box-shadow: 0px 1px 2px rgba(60, 64, 67, 0.3), 0px 1px 3px 1px rgba(60, 64, 67, 0.15);\n",
              "      fill: #174EA6;\n",
              "    }\n",
              "\n",
              "    [theme=dark] .colab-df-convert {\n",
              "      background-color: #3B4455;\n",
              "      fill: #D2E3FC;\n",
              "    }\n",
              "\n",
              "    [theme=dark] .colab-df-convert:hover {\n",
              "      background-color: #434B5C;\n",
              "      box-shadow: 0px 1px 3px 1px rgba(0, 0, 0, 0.15);\n",
              "      filter: drop-shadow(0px 1px 2px rgba(0, 0, 0, 0.3));\n",
              "      fill: #FFFFFF;\n",
              "    }\n",
              "  </style>\n",
              "\n",
              "      <script>\n",
              "        const buttonEl =\n",
              "          document.querySelector('#df-42049aad-75c7-437a-ae4a-83c847fb4787 button.colab-df-convert');\n",
              "        buttonEl.style.display =\n",
              "          google.colab.kernel.accessAllowed ? 'block' : 'none';\n",
              "\n",
              "        async function convertToInteractive(key) {\n",
              "          const element = document.querySelector('#df-42049aad-75c7-437a-ae4a-83c847fb4787');\n",
              "          const dataTable =\n",
              "            await google.colab.kernel.invokeFunction('convertToInteractive',\n",
              "                                                     [key], {});\n",
              "          if (!dataTable) return;\n",
              "\n",
              "          const docLinkHtml = 'Like what you see? Visit the ' +\n",
              "            '<a target=\"_blank\" href=https://colab.research.google.com/notebooks/data_table.ipynb>data table notebook</a>'\n",
              "            + ' to learn more about interactive tables.';\n",
              "          element.innerHTML = '';\n",
              "          dataTable['output_type'] = 'display_data';\n",
              "          await google.colab.output.renderOutput(dataTable, element);\n",
              "          const docLink = document.createElement('div');\n",
              "          docLink.innerHTML = docLinkHtml;\n",
              "          element.appendChild(docLink);\n",
              "        }\n",
              "      </script>\n",
              "    </div>\n",
              "  </div>\n",
              "  "
            ]
          },
          "metadata": {},
          "execution_count": 31
        }
      ]
    },
    {
      "cell_type": "code",
      "source": [
        "# Criando coluna de média de id\n",
        "fraude_df[\"media_id\"] = (fraude_df.id_por_dispositivo + fraude_df.id_por_ip) * 0.5\n",
        "\n",
        "fraude_df.head()"
      ],
      "metadata": {
        "colab": {
          "base_uri": "https://localhost:8080/",
          "height": 444
        },
        "id": "vADsJ1PixXJ-",
        "outputId": "012a5f63-d170-4911-f6fd-b8071a2d12ed"
      },
      "execution_count": null,
      "outputs": [
        {
          "output_type": "execute_result",
          "data": {
            "text/plain": [
              "       id             cadastro               compra  valor id_dispositivo  \\\n",
              "0   22058  2015-02-24 22:55:49  2015-04-18 02:47:11     34  QVPSPJUOCKZAR   \n",
              "1  333320  2015-06-07 20:39:50  2015-06-08 01:38:54     16  EOGFQPIZPYXFZ   \n",
              "2    1359  2015-01-01 18:52:44  2015-01-01 18:52:45     15  YSSKYOSJHPPLJ   \n",
              "3  150084  2015-04-28 21:13:25  2015-05-04 13:54:50     44  ATGTXKYKUDUQN   \n",
              "4  221365  2015-07-21 07:09:52  2015-09-09 18:40:53     39  NAUITBZFJKHWW   \n",
              "\n",
              "  fonte browser genero  idade            ip  fraude           pais  \\\n",
              "0   SEO  Chrome      M     39  7.327584e+08       0          Japan   \n",
              "1   Ads  Chrome      F     53  3.503114e+08       0  United States   \n",
              "2   SEO   Opera      M     53  2.621474e+09       1  United States   \n",
              "3   SEO  Safari      M     41  3.840542e+09       0       Faltando   \n",
              "4   Ads  Safari      M     45  4.155831e+08       0  United States   \n",
              "\n",
              "   id_por_dispositivo  id_por_ip  media_id  \n",
              "0                   1          1       1.0  \n",
              "1                   1          1       1.0  \n",
              "2                  12         12      12.0  \n",
              "3                   1          1       1.0  \n",
              "4                   1          1       1.0  "
            ],
            "text/html": [
              "\n",
              "  <div id=\"df-acf8001c-693f-45f2-8c82-0259d5798e21\">\n",
              "    <div class=\"colab-df-container\">\n",
              "      <div>\n",
              "<style scoped>\n",
              "    .dataframe tbody tr th:only-of-type {\n",
              "        vertical-align: middle;\n",
              "    }\n",
              "\n",
              "    .dataframe tbody tr th {\n",
              "        vertical-align: top;\n",
              "    }\n",
              "\n",
              "    .dataframe thead th {\n",
              "        text-align: right;\n",
              "    }\n",
              "</style>\n",
              "<table border=\"1\" class=\"dataframe\">\n",
              "  <thead>\n",
              "    <tr style=\"text-align: right;\">\n",
              "      <th></th>\n",
              "      <th>id</th>\n",
              "      <th>cadastro</th>\n",
              "      <th>compra</th>\n",
              "      <th>valor</th>\n",
              "      <th>id_dispositivo</th>\n",
              "      <th>fonte</th>\n",
              "      <th>browser</th>\n",
              "      <th>genero</th>\n",
              "      <th>idade</th>\n",
              "      <th>ip</th>\n",
              "      <th>fraude</th>\n",
              "      <th>pais</th>\n",
              "      <th>id_por_dispositivo</th>\n",
              "      <th>id_por_ip</th>\n",
              "      <th>media_id</th>\n",
              "    </tr>\n",
              "  </thead>\n",
              "  <tbody>\n",
              "    <tr>\n",
              "      <th>0</th>\n",
              "      <td>22058</td>\n",
              "      <td>2015-02-24 22:55:49</td>\n",
              "      <td>2015-04-18 02:47:11</td>\n",
              "      <td>34</td>\n",
              "      <td>QVPSPJUOCKZAR</td>\n",
              "      <td>SEO</td>\n",
              "      <td>Chrome</td>\n",
              "      <td>M</td>\n",
              "      <td>39</td>\n",
              "      <td>7.327584e+08</td>\n",
              "      <td>0</td>\n",
              "      <td>Japan</td>\n",
              "      <td>1</td>\n",
              "      <td>1</td>\n",
              "      <td>1.0</td>\n",
              "    </tr>\n",
              "    <tr>\n",
              "      <th>1</th>\n",
              "      <td>333320</td>\n",
              "      <td>2015-06-07 20:39:50</td>\n",
              "      <td>2015-06-08 01:38:54</td>\n",
              "      <td>16</td>\n",
              "      <td>EOGFQPIZPYXFZ</td>\n",
              "      <td>Ads</td>\n",
              "      <td>Chrome</td>\n",
              "      <td>F</td>\n",
              "      <td>53</td>\n",
              "      <td>3.503114e+08</td>\n",
              "      <td>0</td>\n",
              "      <td>United States</td>\n",
              "      <td>1</td>\n",
              "      <td>1</td>\n",
              "      <td>1.0</td>\n",
              "    </tr>\n",
              "    <tr>\n",
              "      <th>2</th>\n",
              "      <td>1359</td>\n",
              "      <td>2015-01-01 18:52:44</td>\n",
              "      <td>2015-01-01 18:52:45</td>\n",
              "      <td>15</td>\n",
              "      <td>YSSKYOSJHPPLJ</td>\n",
              "      <td>SEO</td>\n",
              "      <td>Opera</td>\n",
              "      <td>M</td>\n",
              "      <td>53</td>\n",
              "      <td>2.621474e+09</td>\n",
              "      <td>1</td>\n",
              "      <td>United States</td>\n",
              "      <td>12</td>\n",
              "      <td>12</td>\n",
              "      <td>12.0</td>\n",
              "    </tr>\n",
              "    <tr>\n",
              "      <th>3</th>\n",
              "      <td>150084</td>\n",
              "      <td>2015-04-28 21:13:25</td>\n",
              "      <td>2015-05-04 13:54:50</td>\n",
              "      <td>44</td>\n",
              "      <td>ATGTXKYKUDUQN</td>\n",
              "      <td>SEO</td>\n",
              "      <td>Safari</td>\n",
              "      <td>M</td>\n",
              "      <td>41</td>\n",
              "      <td>3.840542e+09</td>\n",
              "      <td>0</td>\n",
              "      <td>Faltando</td>\n",
              "      <td>1</td>\n",
              "      <td>1</td>\n",
              "      <td>1.0</td>\n",
              "    </tr>\n",
              "    <tr>\n",
              "      <th>4</th>\n",
              "      <td>221365</td>\n",
              "      <td>2015-07-21 07:09:52</td>\n",
              "      <td>2015-09-09 18:40:53</td>\n",
              "      <td>39</td>\n",
              "      <td>NAUITBZFJKHWW</td>\n",
              "      <td>Ads</td>\n",
              "      <td>Safari</td>\n",
              "      <td>M</td>\n",
              "      <td>45</td>\n",
              "      <td>4.155831e+08</td>\n",
              "      <td>0</td>\n",
              "      <td>United States</td>\n",
              "      <td>1</td>\n",
              "      <td>1</td>\n",
              "      <td>1.0</td>\n",
              "    </tr>\n",
              "  </tbody>\n",
              "</table>\n",
              "</div>\n",
              "      <button class=\"colab-df-convert\" onclick=\"convertToInteractive('df-acf8001c-693f-45f2-8c82-0259d5798e21')\"\n",
              "              title=\"Convert this dataframe to an interactive table.\"\n",
              "              style=\"display:none;\">\n",
              "        \n",
              "  <svg xmlns=\"http://www.w3.org/2000/svg\" height=\"24px\"viewBox=\"0 0 24 24\"\n",
              "       width=\"24px\">\n",
              "    <path d=\"M0 0h24v24H0V0z\" fill=\"none\"/>\n",
              "    <path d=\"M18.56 5.44l.94 2.06.94-2.06 2.06-.94-2.06-.94-.94-2.06-.94 2.06-2.06.94zm-11 1L8.5 8.5l.94-2.06 2.06-.94-2.06-.94L8.5 2.5l-.94 2.06-2.06.94zm10 10l.94 2.06.94-2.06 2.06-.94-2.06-.94-.94-2.06-.94 2.06-2.06.94z\"/><path d=\"M17.41 7.96l-1.37-1.37c-.4-.4-.92-.59-1.43-.59-.52 0-1.04.2-1.43.59L10.3 9.45l-7.72 7.72c-.78.78-.78 2.05 0 2.83L4 21.41c.39.39.9.59 1.41.59.51 0 1.02-.2 1.41-.59l7.78-7.78 2.81-2.81c.8-.78.8-2.07 0-2.86zM5.41 20L4 18.59l7.72-7.72 1.47 1.35L5.41 20z\"/>\n",
              "  </svg>\n",
              "      </button>\n",
              "      \n",
              "  <style>\n",
              "    .colab-df-container {\n",
              "      display:flex;\n",
              "      flex-wrap:wrap;\n",
              "      gap: 12px;\n",
              "    }\n",
              "\n",
              "    .colab-df-convert {\n",
              "      background-color: #E8F0FE;\n",
              "      border: none;\n",
              "      border-radius: 50%;\n",
              "      cursor: pointer;\n",
              "      display: none;\n",
              "      fill: #1967D2;\n",
              "      height: 32px;\n",
              "      padding: 0 0 0 0;\n",
              "      width: 32px;\n",
              "    }\n",
              "\n",
              "    .colab-df-convert:hover {\n",
              "      background-color: #E2EBFA;\n",
              "      box-shadow: 0px 1px 2px rgba(60, 64, 67, 0.3), 0px 1px 3px 1px rgba(60, 64, 67, 0.15);\n",
              "      fill: #174EA6;\n",
              "    }\n",
              "\n",
              "    [theme=dark] .colab-df-convert {\n",
              "      background-color: #3B4455;\n",
              "      fill: #D2E3FC;\n",
              "    }\n",
              "\n",
              "    [theme=dark] .colab-df-convert:hover {\n",
              "      background-color: #434B5C;\n",
              "      box-shadow: 0px 1px 3px 1px rgba(0, 0, 0, 0.15);\n",
              "      filter: drop-shadow(0px 1px 2px rgba(0, 0, 0, 0.3));\n",
              "      fill: #FFFFFF;\n",
              "    }\n",
              "  </style>\n",
              "\n",
              "      <script>\n",
              "        const buttonEl =\n",
              "          document.querySelector('#df-acf8001c-693f-45f2-8c82-0259d5798e21 button.colab-df-convert');\n",
              "        buttonEl.style.display =\n",
              "          google.colab.kernel.accessAllowed ? 'block' : 'none';\n",
              "\n",
              "        async function convertToInteractive(key) {\n",
              "          const element = document.querySelector('#df-acf8001c-693f-45f2-8c82-0259d5798e21');\n",
              "          const dataTable =\n",
              "            await google.colab.kernel.invokeFunction('convertToInteractive',\n",
              "                                                     [key], {});\n",
              "          if (!dataTable) return;\n",
              "\n",
              "          const docLinkHtml = 'Like what you see? Visit the ' +\n",
              "            '<a target=\"_blank\" href=https://colab.research.google.com/notebooks/data_table.ipynb>data table notebook</a>'\n",
              "            + ' to learn more about interactive tables.';\n",
              "          element.innerHTML = '';\n",
              "          dataTable['output_type'] = 'display_data';\n",
              "          await google.colab.output.renderOutput(dataTable, element);\n",
              "          const docLink = document.createElement('div');\n",
              "          docLink.innerHTML = docLinkHtml;\n",
              "          element.appendChild(docLink);\n",
              "        }\n",
              "      </script>\n",
              "    </div>\n",
              "  </div>\n",
              "  "
            ]
          },
          "metadata": {},
          "execution_count": 32
        }
      ]
    },
    {
      "cell_type": "code",
      "source": [
        "# Convertendo data de compra e de cadastro para datetime\n",
        "fraude_df.cadastro = fraude_df.cadastro.apply(pd.to_datetime)\n",
        "fraude_df.compra = fraude_df.compra.apply(pd.to_datetime)\n",
        "\n",
        "# Criando coluna para medir o tempo de operação\n",
        "fraude_df[\"tempo\"] = (fraude_df.compra - fraude_df.cadastro).apply(lambda x: x.seconds)\n",
        "\n",
        "fraude_df.head()"
      ],
      "metadata": {
        "colab": {
          "base_uri": "https://localhost:8080/",
          "height": 444
        },
        "id": "K_Xgxdo5x8OM",
        "outputId": "342219d3-95b1-4aee-9a7f-0ba1ebe6d32f"
      },
      "execution_count": null,
      "outputs": [
        {
          "output_type": "execute_result",
          "data": {
            "text/plain": [
              "       id            cadastro              compra  valor id_dispositivo fonte  \\\n",
              "0   22058 2015-02-24 22:55:49 2015-04-18 02:47:11     34  QVPSPJUOCKZAR   SEO   \n",
              "1  333320 2015-06-07 20:39:50 2015-06-08 01:38:54     16  EOGFQPIZPYXFZ   Ads   \n",
              "2    1359 2015-01-01 18:52:44 2015-01-01 18:52:45     15  YSSKYOSJHPPLJ   SEO   \n",
              "3  150084 2015-04-28 21:13:25 2015-05-04 13:54:50     44  ATGTXKYKUDUQN   SEO   \n",
              "4  221365 2015-07-21 07:09:52 2015-09-09 18:40:53     39  NAUITBZFJKHWW   Ads   \n",
              "\n",
              "  browser genero  idade            ip  fraude           pais  \\\n",
              "0  Chrome      M     39  7.327584e+08       0          Japan   \n",
              "1  Chrome      F     53  3.503114e+08       0  United States   \n",
              "2   Opera      M     53  2.621474e+09       1  United States   \n",
              "3  Safari      M     41  3.840542e+09       0       Faltando   \n",
              "4  Safari      M     45  4.155831e+08       0  United States   \n",
              "\n",
              "   id_por_dispositivo  id_por_ip  media_id  tempo  \n",
              "0                   1          1       1.0  13882  \n",
              "1                   1          1       1.0  17944  \n",
              "2                  12         12      12.0      1  \n",
              "3                   1          1       1.0  60085  \n",
              "4                   1          1       1.0  41461  "
            ],
            "text/html": [
              "\n",
              "  <div id=\"df-ca8fb148-7f16-43f0-8ee1-7c14be6ec154\">\n",
              "    <div class=\"colab-df-container\">\n",
              "      <div>\n",
              "<style scoped>\n",
              "    .dataframe tbody tr th:only-of-type {\n",
              "        vertical-align: middle;\n",
              "    }\n",
              "\n",
              "    .dataframe tbody tr th {\n",
              "        vertical-align: top;\n",
              "    }\n",
              "\n",
              "    .dataframe thead th {\n",
              "        text-align: right;\n",
              "    }\n",
              "</style>\n",
              "<table border=\"1\" class=\"dataframe\">\n",
              "  <thead>\n",
              "    <tr style=\"text-align: right;\">\n",
              "      <th></th>\n",
              "      <th>id</th>\n",
              "      <th>cadastro</th>\n",
              "      <th>compra</th>\n",
              "      <th>valor</th>\n",
              "      <th>id_dispositivo</th>\n",
              "      <th>fonte</th>\n",
              "      <th>browser</th>\n",
              "      <th>genero</th>\n",
              "      <th>idade</th>\n",
              "      <th>ip</th>\n",
              "      <th>fraude</th>\n",
              "      <th>pais</th>\n",
              "      <th>id_por_dispositivo</th>\n",
              "      <th>id_por_ip</th>\n",
              "      <th>media_id</th>\n",
              "      <th>tempo</th>\n",
              "    </tr>\n",
              "  </thead>\n",
              "  <tbody>\n",
              "    <tr>\n",
              "      <th>0</th>\n",
              "      <td>22058</td>\n",
              "      <td>2015-02-24 22:55:49</td>\n",
              "      <td>2015-04-18 02:47:11</td>\n",
              "      <td>34</td>\n",
              "      <td>QVPSPJUOCKZAR</td>\n",
              "      <td>SEO</td>\n",
              "      <td>Chrome</td>\n",
              "      <td>M</td>\n",
              "      <td>39</td>\n",
              "      <td>7.327584e+08</td>\n",
              "      <td>0</td>\n",
              "      <td>Japan</td>\n",
              "      <td>1</td>\n",
              "      <td>1</td>\n",
              "      <td>1.0</td>\n",
              "      <td>13882</td>\n",
              "    </tr>\n",
              "    <tr>\n",
              "      <th>1</th>\n",
              "      <td>333320</td>\n",
              "      <td>2015-06-07 20:39:50</td>\n",
              "      <td>2015-06-08 01:38:54</td>\n",
              "      <td>16</td>\n",
              "      <td>EOGFQPIZPYXFZ</td>\n",
              "      <td>Ads</td>\n",
              "      <td>Chrome</td>\n",
              "      <td>F</td>\n",
              "      <td>53</td>\n",
              "      <td>3.503114e+08</td>\n",
              "      <td>0</td>\n",
              "      <td>United States</td>\n",
              "      <td>1</td>\n",
              "      <td>1</td>\n",
              "      <td>1.0</td>\n",
              "      <td>17944</td>\n",
              "    </tr>\n",
              "    <tr>\n",
              "      <th>2</th>\n",
              "      <td>1359</td>\n",
              "      <td>2015-01-01 18:52:44</td>\n",
              "      <td>2015-01-01 18:52:45</td>\n",
              "      <td>15</td>\n",
              "      <td>YSSKYOSJHPPLJ</td>\n",
              "      <td>SEO</td>\n",
              "      <td>Opera</td>\n",
              "      <td>M</td>\n",
              "      <td>53</td>\n",
              "      <td>2.621474e+09</td>\n",
              "      <td>1</td>\n",
              "      <td>United States</td>\n",
              "      <td>12</td>\n",
              "      <td>12</td>\n",
              "      <td>12.0</td>\n",
              "      <td>1</td>\n",
              "    </tr>\n",
              "    <tr>\n",
              "      <th>3</th>\n",
              "      <td>150084</td>\n",
              "      <td>2015-04-28 21:13:25</td>\n",
              "      <td>2015-05-04 13:54:50</td>\n",
              "      <td>44</td>\n",
              "      <td>ATGTXKYKUDUQN</td>\n",
              "      <td>SEO</td>\n",
              "      <td>Safari</td>\n",
              "      <td>M</td>\n",
              "      <td>41</td>\n",
              "      <td>3.840542e+09</td>\n",
              "      <td>0</td>\n",
              "      <td>Faltando</td>\n",
              "      <td>1</td>\n",
              "      <td>1</td>\n",
              "      <td>1.0</td>\n",
              "      <td>60085</td>\n",
              "    </tr>\n",
              "    <tr>\n",
              "      <th>4</th>\n",
              "      <td>221365</td>\n",
              "      <td>2015-07-21 07:09:52</td>\n",
              "      <td>2015-09-09 18:40:53</td>\n",
              "      <td>39</td>\n",
              "      <td>NAUITBZFJKHWW</td>\n",
              "      <td>Ads</td>\n",
              "      <td>Safari</td>\n",
              "      <td>M</td>\n",
              "      <td>45</td>\n",
              "      <td>4.155831e+08</td>\n",
              "      <td>0</td>\n",
              "      <td>United States</td>\n",
              "      <td>1</td>\n",
              "      <td>1</td>\n",
              "      <td>1.0</td>\n",
              "      <td>41461</td>\n",
              "    </tr>\n",
              "  </tbody>\n",
              "</table>\n",
              "</div>\n",
              "      <button class=\"colab-df-convert\" onclick=\"convertToInteractive('df-ca8fb148-7f16-43f0-8ee1-7c14be6ec154')\"\n",
              "              title=\"Convert this dataframe to an interactive table.\"\n",
              "              style=\"display:none;\">\n",
              "        \n",
              "  <svg xmlns=\"http://www.w3.org/2000/svg\" height=\"24px\"viewBox=\"0 0 24 24\"\n",
              "       width=\"24px\">\n",
              "    <path d=\"M0 0h24v24H0V0z\" fill=\"none\"/>\n",
              "    <path d=\"M18.56 5.44l.94 2.06.94-2.06 2.06-.94-2.06-.94-.94-2.06-.94 2.06-2.06.94zm-11 1L8.5 8.5l.94-2.06 2.06-.94-2.06-.94L8.5 2.5l-.94 2.06-2.06.94zm10 10l.94 2.06.94-2.06 2.06-.94-2.06-.94-.94-2.06-.94 2.06-2.06.94z\"/><path d=\"M17.41 7.96l-1.37-1.37c-.4-.4-.92-.59-1.43-.59-.52 0-1.04.2-1.43.59L10.3 9.45l-7.72 7.72c-.78.78-.78 2.05 0 2.83L4 21.41c.39.39.9.59 1.41.59.51 0 1.02-.2 1.41-.59l7.78-7.78 2.81-2.81c.8-.78.8-2.07 0-2.86zM5.41 20L4 18.59l7.72-7.72 1.47 1.35L5.41 20z\"/>\n",
              "  </svg>\n",
              "      </button>\n",
              "      \n",
              "  <style>\n",
              "    .colab-df-container {\n",
              "      display:flex;\n",
              "      flex-wrap:wrap;\n",
              "      gap: 12px;\n",
              "    }\n",
              "\n",
              "    .colab-df-convert {\n",
              "      background-color: #E8F0FE;\n",
              "      border: none;\n",
              "      border-radius: 50%;\n",
              "      cursor: pointer;\n",
              "      display: none;\n",
              "      fill: #1967D2;\n",
              "      height: 32px;\n",
              "      padding: 0 0 0 0;\n",
              "      width: 32px;\n",
              "    }\n",
              "\n",
              "    .colab-df-convert:hover {\n",
              "      background-color: #E2EBFA;\n",
              "      box-shadow: 0px 1px 2px rgba(60, 64, 67, 0.3), 0px 1px 3px 1px rgba(60, 64, 67, 0.15);\n",
              "      fill: #174EA6;\n",
              "    }\n",
              "\n",
              "    [theme=dark] .colab-df-convert {\n",
              "      background-color: #3B4455;\n",
              "      fill: #D2E3FC;\n",
              "    }\n",
              "\n",
              "    [theme=dark] .colab-df-convert:hover {\n",
              "      background-color: #434B5C;\n",
              "      box-shadow: 0px 1px 3px 1px rgba(0, 0, 0, 0.15);\n",
              "      filter: drop-shadow(0px 1px 2px rgba(0, 0, 0, 0.3));\n",
              "      fill: #FFFFFF;\n",
              "    }\n",
              "  </style>\n",
              "\n",
              "      <script>\n",
              "        const buttonEl =\n",
              "          document.querySelector('#df-ca8fb148-7f16-43f0-8ee1-7c14be6ec154 button.colab-df-convert');\n",
              "        buttonEl.style.display =\n",
              "          google.colab.kernel.accessAllowed ? 'block' : 'none';\n",
              "\n",
              "        async function convertToInteractive(key) {\n",
              "          const element = document.querySelector('#df-ca8fb148-7f16-43f0-8ee1-7c14be6ec154');\n",
              "          const dataTable =\n",
              "            await google.colab.kernel.invokeFunction('convertToInteractive',\n",
              "                                                     [key], {});\n",
              "          if (!dataTable) return;\n",
              "\n",
              "          const docLinkHtml = 'Like what you see? Visit the ' +\n",
              "            '<a target=\"_blank\" href=https://colab.research.google.com/notebooks/data_table.ipynb>data table notebook</a>'\n",
              "            + ' to learn more about interactive tables.';\n",
              "          element.innerHTML = '';\n",
              "          dataTable['output_type'] = 'display_data';\n",
              "          await google.colab.output.renderOutput(dataTable, element);\n",
              "          const docLink = document.createElement('div');\n",
              "          docLink.innerHTML = docLinkHtml;\n",
              "          element.appendChild(docLink);\n",
              "        }\n",
              "      </script>\n",
              "    </div>\n",
              "  </div>\n",
              "  "
            ]
          },
          "metadata": {},
          "execution_count": 33
        }
      ]
    },
    {
      "cell_type": "code",
      "source": [
        "# ONE HOTE ENCODING\n",
        "\n",
        "from sklearn.preprocessing import OneHotEncoder\n",
        "\n",
        "ohe_pais = OneHotEncoder(handle_unknown='ignore')\n",
        "ohe_pais.fit(fraude_df[['pais']])\n",
        "temp_nomes = ohe_pais.get_feature_names_out()\n",
        "temp_com_nomes = pd.DataFrame(ohe_pais.transform(fraude_df[['pais']]).toarray())\n",
        "temp_com_nomes.columns = temp_nomes\n",
        "temp_com_nomes.head()"
      ],
      "metadata": {
        "colab": {
          "base_uri": "https://localhost:8080/",
          "height": 334
        },
        "id": "228x1uH7y69R",
        "outputId": "6775b44f-1567-4607-a977-c385736178d1"
      },
      "execution_count": null,
      "outputs": [
        {
          "output_type": "execute_result",
          "data": {
            "text/plain": [
              "   pais_Afghanistan  pais_Albania  pais_Algeria  pais_Angola  \\\n",
              "0               0.0           0.0           0.0          0.0   \n",
              "1               0.0           0.0           0.0          0.0   \n",
              "2               0.0           0.0           0.0          0.0   \n",
              "3               0.0           0.0           0.0          0.0   \n",
              "4               0.0           0.0           0.0          0.0   \n",
              "\n",
              "   pais_Antigua and Barbuda  pais_Argentina  pais_Armenia  pais_Australia  \\\n",
              "0                       0.0             0.0           0.0             0.0   \n",
              "1                       0.0             0.0           0.0             0.0   \n",
              "2                       0.0             0.0           0.0             0.0   \n",
              "3                       0.0             0.0           0.0             0.0   \n",
              "4                       0.0             0.0           0.0             0.0   \n",
              "\n",
              "   pais_Austria  pais_Azerbaijan  ...  pais_United States  pais_Uruguay  \\\n",
              "0           0.0              0.0  ...                 0.0           0.0   \n",
              "1           0.0              0.0  ...                 1.0           0.0   \n",
              "2           0.0              0.0  ...                 1.0           0.0   \n",
              "3           0.0              0.0  ...                 0.0           0.0   \n",
              "4           0.0              0.0  ...                 1.0           0.0   \n",
              "\n",
              "   pais_Uzbekistan  pais_Vanuatu  pais_Venezuela  pais_Viet Nam  \\\n",
              "0              0.0           0.0             0.0            0.0   \n",
              "1              0.0           0.0             0.0            0.0   \n",
              "2              0.0           0.0             0.0            0.0   \n",
              "3              0.0           0.0             0.0            0.0   \n",
              "4              0.0           0.0             0.0            0.0   \n",
              "\n",
              "   pais_Virgin Islands (U.S.)  pais_Yemen  pais_Zambia  pais_Zimbabwe  \n",
              "0                         0.0         0.0          0.0            0.0  \n",
              "1                         0.0         0.0          0.0            0.0  \n",
              "2                         0.0         0.0          0.0            0.0  \n",
              "3                         0.0         0.0          0.0            0.0  \n",
              "4                         0.0         0.0          0.0            0.0  \n",
              "\n",
              "[5 rows x 182 columns]"
            ],
            "text/html": [
              "\n",
              "  <div id=\"df-1b120fab-8ee2-41c2-b26f-e54159217ed1\">\n",
              "    <div class=\"colab-df-container\">\n",
              "      <div>\n",
              "<style scoped>\n",
              "    .dataframe tbody tr th:only-of-type {\n",
              "        vertical-align: middle;\n",
              "    }\n",
              "\n",
              "    .dataframe tbody tr th {\n",
              "        vertical-align: top;\n",
              "    }\n",
              "\n",
              "    .dataframe thead th {\n",
              "        text-align: right;\n",
              "    }\n",
              "</style>\n",
              "<table border=\"1\" class=\"dataframe\">\n",
              "  <thead>\n",
              "    <tr style=\"text-align: right;\">\n",
              "      <th></th>\n",
              "      <th>pais_Afghanistan</th>\n",
              "      <th>pais_Albania</th>\n",
              "      <th>pais_Algeria</th>\n",
              "      <th>pais_Angola</th>\n",
              "      <th>pais_Antigua and Barbuda</th>\n",
              "      <th>pais_Argentina</th>\n",
              "      <th>pais_Armenia</th>\n",
              "      <th>pais_Australia</th>\n",
              "      <th>pais_Austria</th>\n",
              "      <th>pais_Azerbaijan</th>\n",
              "      <th>...</th>\n",
              "      <th>pais_United States</th>\n",
              "      <th>pais_Uruguay</th>\n",
              "      <th>pais_Uzbekistan</th>\n",
              "      <th>pais_Vanuatu</th>\n",
              "      <th>pais_Venezuela</th>\n",
              "      <th>pais_Viet Nam</th>\n",
              "      <th>pais_Virgin Islands (U.S.)</th>\n",
              "      <th>pais_Yemen</th>\n",
              "      <th>pais_Zambia</th>\n",
              "      <th>pais_Zimbabwe</th>\n",
              "    </tr>\n",
              "  </thead>\n",
              "  <tbody>\n",
              "    <tr>\n",
              "      <th>0</th>\n",
              "      <td>0.0</td>\n",
              "      <td>0.0</td>\n",
              "      <td>0.0</td>\n",
              "      <td>0.0</td>\n",
              "      <td>0.0</td>\n",
              "      <td>0.0</td>\n",
              "      <td>0.0</td>\n",
              "      <td>0.0</td>\n",
              "      <td>0.0</td>\n",
              "      <td>0.0</td>\n",
              "      <td>...</td>\n",
              "      <td>0.0</td>\n",
              "      <td>0.0</td>\n",
              "      <td>0.0</td>\n",
              "      <td>0.0</td>\n",
              "      <td>0.0</td>\n",
              "      <td>0.0</td>\n",
              "      <td>0.0</td>\n",
              "      <td>0.0</td>\n",
              "      <td>0.0</td>\n",
              "      <td>0.0</td>\n",
              "    </tr>\n",
              "    <tr>\n",
              "      <th>1</th>\n",
              "      <td>0.0</td>\n",
              "      <td>0.0</td>\n",
              "      <td>0.0</td>\n",
              "      <td>0.0</td>\n",
              "      <td>0.0</td>\n",
              "      <td>0.0</td>\n",
              "      <td>0.0</td>\n",
              "      <td>0.0</td>\n",
              "      <td>0.0</td>\n",
              "      <td>0.0</td>\n",
              "      <td>...</td>\n",
              "      <td>1.0</td>\n",
              "      <td>0.0</td>\n",
              "      <td>0.0</td>\n",
              "      <td>0.0</td>\n",
              "      <td>0.0</td>\n",
              "      <td>0.0</td>\n",
              "      <td>0.0</td>\n",
              "      <td>0.0</td>\n",
              "      <td>0.0</td>\n",
              "      <td>0.0</td>\n",
              "    </tr>\n",
              "    <tr>\n",
              "      <th>2</th>\n",
              "      <td>0.0</td>\n",
              "      <td>0.0</td>\n",
              "      <td>0.0</td>\n",
              "      <td>0.0</td>\n",
              "      <td>0.0</td>\n",
              "      <td>0.0</td>\n",
              "      <td>0.0</td>\n",
              "      <td>0.0</td>\n",
              "      <td>0.0</td>\n",
              "      <td>0.0</td>\n",
              "      <td>...</td>\n",
              "      <td>1.0</td>\n",
              "      <td>0.0</td>\n",
              "      <td>0.0</td>\n",
              "      <td>0.0</td>\n",
              "      <td>0.0</td>\n",
              "      <td>0.0</td>\n",
              "      <td>0.0</td>\n",
              "      <td>0.0</td>\n",
              "      <td>0.0</td>\n",
              "      <td>0.0</td>\n",
              "    </tr>\n",
              "    <tr>\n",
              "      <th>3</th>\n",
              "      <td>0.0</td>\n",
              "      <td>0.0</td>\n",
              "      <td>0.0</td>\n",
              "      <td>0.0</td>\n",
              "      <td>0.0</td>\n",
              "      <td>0.0</td>\n",
              "      <td>0.0</td>\n",
              "      <td>0.0</td>\n",
              "      <td>0.0</td>\n",
              "      <td>0.0</td>\n",
              "      <td>...</td>\n",
              "      <td>0.0</td>\n",
              "      <td>0.0</td>\n",
              "      <td>0.0</td>\n",
              "      <td>0.0</td>\n",
              "      <td>0.0</td>\n",
              "      <td>0.0</td>\n",
              "      <td>0.0</td>\n",
              "      <td>0.0</td>\n",
              "      <td>0.0</td>\n",
              "      <td>0.0</td>\n",
              "    </tr>\n",
              "    <tr>\n",
              "      <th>4</th>\n",
              "      <td>0.0</td>\n",
              "      <td>0.0</td>\n",
              "      <td>0.0</td>\n",
              "      <td>0.0</td>\n",
              "      <td>0.0</td>\n",
              "      <td>0.0</td>\n",
              "      <td>0.0</td>\n",
              "      <td>0.0</td>\n",
              "      <td>0.0</td>\n",
              "      <td>0.0</td>\n",
              "      <td>...</td>\n",
              "      <td>1.0</td>\n",
              "      <td>0.0</td>\n",
              "      <td>0.0</td>\n",
              "      <td>0.0</td>\n",
              "      <td>0.0</td>\n",
              "      <td>0.0</td>\n",
              "      <td>0.0</td>\n",
              "      <td>0.0</td>\n",
              "      <td>0.0</td>\n",
              "      <td>0.0</td>\n",
              "    </tr>\n",
              "  </tbody>\n",
              "</table>\n",
              "<p>5 rows × 182 columns</p>\n",
              "</div>\n",
              "      <button class=\"colab-df-convert\" onclick=\"convertToInteractive('df-1b120fab-8ee2-41c2-b26f-e54159217ed1')\"\n",
              "              title=\"Convert this dataframe to an interactive table.\"\n",
              "              style=\"display:none;\">\n",
              "        \n",
              "  <svg xmlns=\"http://www.w3.org/2000/svg\" height=\"24px\"viewBox=\"0 0 24 24\"\n",
              "       width=\"24px\">\n",
              "    <path d=\"M0 0h24v24H0V0z\" fill=\"none\"/>\n",
              "    <path d=\"M18.56 5.44l.94 2.06.94-2.06 2.06-.94-2.06-.94-.94-2.06-.94 2.06-2.06.94zm-11 1L8.5 8.5l.94-2.06 2.06-.94-2.06-.94L8.5 2.5l-.94 2.06-2.06.94zm10 10l.94 2.06.94-2.06 2.06-.94-2.06-.94-.94-2.06-.94 2.06-2.06.94z\"/><path d=\"M17.41 7.96l-1.37-1.37c-.4-.4-.92-.59-1.43-.59-.52 0-1.04.2-1.43.59L10.3 9.45l-7.72 7.72c-.78.78-.78 2.05 0 2.83L4 21.41c.39.39.9.59 1.41.59.51 0 1.02-.2 1.41-.59l7.78-7.78 2.81-2.81c.8-.78.8-2.07 0-2.86zM5.41 20L4 18.59l7.72-7.72 1.47 1.35L5.41 20z\"/>\n",
              "  </svg>\n",
              "      </button>\n",
              "      \n",
              "  <style>\n",
              "    .colab-df-container {\n",
              "      display:flex;\n",
              "      flex-wrap:wrap;\n",
              "      gap: 12px;\n",
              "    }\n",
              "\n",
              "    .colab-df-convert {\n",
              "      background-color: #E8F0FE;\n",
              "      border: none;\n",
              "      border-radius: 50%;\n",
              "      cursor: pointer;\n",
              "      display: none;\n",
              "      fill: #1967D2;\n",
              "      height: 32px;\n",
              "      padding: 0 0 0 0;\n",
              "      width: 32px;\n",
              "    }\n",
              "\n",
              "    .colab-df-convert:hover {\n",
              "      background-color: #E2EBFA;\n",
              "      box-shadow: 0px 1px 2px rgba(60, 64, 67, 0.3), 0px 1px 3px 1px rgba(60, 64, 67, 0.15);\n",
              "      fill: #174EA6;\n",
              "    }\n",
              "\n",
              "    [theme=dark] .colab-df-convert {\n",
              "      background-color: #3B4455;\n",
              "      fill: #D2E3FC;\n",
              "    }\n",
              "\n",
              "    [theme=dark] .colab-df-convert:hover {\n",
              "      background-color: #434B5C;\n",
              "      box-shadow: 0px 1px 3px 1px rgba(0, 0, 0, 0.15);\n",
              "      filter: drop-shadow(0px 1px 2px rgba(0, 0, 0, 0.3));\n",
              "      fill: #FFFFFF;\n",
              "    }\n",
              "  </style>\n",
              "\n",
              "      <script>\n",
              "        const buttonEl =\n",
              "          document.querySelector('#df-1b120fab-8ee2-41c2-b26f-e54159217ed1 button.colab-df-convert');\n",
              "        buttonEl.style.display =\n",
              "          google.colab.kernel.accessAllowed ? 'block' : 'none';\n",
              "\n",
              "        async function convertToInteractive(key) {\n",
              "          const element = document.querySelector('#df-1b120fab-8ee2-41c2-b26f-e54159217ed1');\n",
              "          const dataTable =\n",
              "            await google.colab.kernel.invokeFunction('convertToInteractive',\n",
              "                                                     [key], {});\n",
              "          if (!dataTable) return;\n",
              "\n",
              "          const docLinkHtml = 'Like what you see? Visit the ' +\n",
              "            '<a target=\"_blank\" href=https://colab.research.google.com/notebooks/data_table.ipynb>data table notebook</a>'\n",
              "            + ' to learn more about interactive tables.';\n",
              "          element.innerHTML = '';\n",
              "          dataTable['output_type'] = 'display_data';\n",
              "          await google.colab.output.renderOutput(dataTable, element);\n",
              "          const docLink = document.createElement('div');\n",
              "          docLink.innerHTML = docLinkHtml;\n",
              "          element.appendChild(docLink);\n",
              "        }\n",
              "      </script>\n",
              "    </div>\n",
              "  </div>\n",
              "  "
            ]
          },
          "metadata": {},
          "execution_count": 34
        }
      ]
    },
    {
      "cell_type": "code",
      "source": [
        "# Tranformando a coluna categórica PAÍS em uma série de colunas numéricas\n",
        "pais_dummies = pd.get_dummies(fraude_df.pais, prefix='pais')\n",
        "fraude_df = pd.concat([fraude_df, pais_dummies], axis=1)\n",
        "\n",
        "fraude_df.head()"
      ],
      "metadata": {
        "colab": {
          "base_uri": "https://localhost:8080/",
          "height": 508
        },
        "id": "OQGnaeLx32fv",
        "outputId": "d1ea73dc-3161-4464-e21b-bd0e91dc617a"
      },
      "execution_count": null,
      "outputs": [
        {
          "output_type": "execute_result",
          "data": {
            "text/plain": [
              "       id            cadastro              compra  valor id_dispositivo fonte  \\\n",
              "0   22058 2015-02-24 22:55:49 2015-04-18 02:47:11     34  QVPSPJUOCKZAR   SEO   \n",
              "1  333320 2015-06-07 20:39:50 2015-06-08 01:38:54     16  EOGFQPIZPYXFZ   Ads   \n",
              "2    1359 2015-01-01 18:52:44 2015-01-01 18:52:45     15  YSSKYOSJHPPLJ   SEO   \n",
              "3  150084 2015-04-28 21:13:25 2015-05-04 13:54:50     44  ATGTXKYKUDUQN   SEO   \n",
              "4  221365 2015-07-21 07:09:52 2015-09-09 18:40:53     39  NAUITBZFJKHWW   Ads   \n",
              "\n",
              "  browser genero  idade            ip  ...  pais_United States pais_Uruguay  \\\n",
              "0  Chrome      M     39  7.327584e+08  ...                   0            0   \n",
              "1  Chrome      F     53  3.503114e+08  ...                   1            0   \n",
              "2   Opera      M     53  2.621474e+09  ...                   1            0   \n",
              "3  Safari      M     41  3.840542e+09  ...                   0            0   \n",
              "4  Safari      M     45  4.155831e+08  ...                   1            0   \n",
              "\n",
              "   pais_Uzbekistan  pais_Vanuatu  pais_Venezuela  pais_Viet Nam  \\\n",
              "0                0             0               0              0   \n",
              "1                0             0               0              0   \n",
              "2                0             0               0              0   \n",
              "3                0             0               0              0   \n",
              "4                0             0               0              0   \n",
              "\n",
              "   pais_Virgin Islands (U.S.)  pais_Yemen  pais_Zambia  pais_Zimbabwe  \n",
              "0                           0           0            0              0  \n",
              "1                           0           0            0              0  \n",
              "2                           0           0            0              0  \n",
              "3                           0           0            0              0  \n",
              "4                           0           0            0              0  \n",
              "\n",
              "[5 rows x 198 columns]"
            ],
            "text/html": [
              "\n",
              "  <div id=\"df-67cd8604-0329-43cc-b66d-60c3bd18187a\">\n",
              "    <div class=\"colab-df-container\">\n",
              "      <div>\n",
              "<style scoped>\n",
              "    .dataframe tbody tr th:only-of-type {\n",
              "        vertical-align: middle;\n",
              "    }\n",
              "\n",
              "    .dataframe tbody tr th {\n",
              "        vertical-align: top;\n",
              "    }\n",
              "\n",
              "    .dataframe thead th {\n",
              "        text-align: right;\n",
              "    }\n",
              "</style>\n",
              "<table border=\"1\" class=\"dataframe\">\n",
              "  <thead>\n",
              "    <tr style=\"text-align: right;\">\n",
              "      <th></th>\n",
              "      <th>id</th>\n",
              "      <th>cadastro</th>\n",
              "      <th>compra</th>\n",
              "      <th>valor</th>\n",
              "      <th>id_dispositivo</th>\n",
              "      <th>fonte</th>\n",
              "      <th>browser</th>\n",
              "      <th>genero</th>\n",
              "      <th>idade</th>\n",
              "      <th>ip</th>\n",
              "      <th>...</th>\n",
              "      <th>pais_United States</th>\n",
              "      <th>pais_Uruguay</th>\n",
              "      <th>pais_Uzbekistan</th>\n",
              "      <th>pais_Vanuatu</th>\n",
              "      <th>pais_Venezuela</th>\n",
              "      <th>pais_Viet Nam</th>\n",
              "      <th>pais_Virgin Islands (U.S.)</th>\n",
              "      <th>pais_Yemen</th>\n",
              "      <th>pais_Zambia</th>\n",
              "      <th>pais_Zimbabwe</th>\n",
              "    </tr>\n",
              "  </thead>\n",
              "  <tbody>\n",
              "    <tr>\n",
              "      <th>0</th>\n",
              "      <td>22058</td>\n",
              "      <td>2015-02-24 22:55:49</td>\n",
              "      <td>2015-04-18 02:47:11</td>\n",
              "      <td>34</td>\n",
              "      <td>QVPSPJUOCKZAR</td>\n",
              "      <td>SEO</td>\n",
              "      <td>Chrome</td>\n",
              "      <td>M</td>\n",
              "      <td>39</td>\n",
              "      <td>7.327584e+08</td>\n",
              "      <td>...</td>\n",
              "      <td>0</td>\n",
              "      <td>0</td>\n",
              "      <td>0</td>\n",
              "      <td>0</td>\n",
              "      <td>0</td>\n",
              "      <td>0</td>\n",
              "      <td>0</td>\n",
              "      <td>0</td>\n",
              "      <td>0</td>\n",
              "      <td>0</td>\n",
              "    </tr>\n",
              "    <tr>\n",
              "      <th>1</th>\n",
              "      <td>333320</td>\n",
              "      <td>2015-06-07 20:39:50</td>\n",
              "      <td>2015-06-08 01:38:54</td>\n",
              "      <td>16</td>\n",
              "      <td>EOGFQPIZPYXFZ</td>\n",
              "      <td>Ads</td>\n",
              "      <td>Chrome</td>\n",
              "      <td>F</td>\n",
              "      <td>53</td>\n",
              "      <td>3.503114e+08</td>\n",
              "      <td>...</td>\n",
              "      <td>1</td>\n",
              "      <td>0</td>\n",
              "      <td>0</td>\n",
              "      <td>0</td>\n",
              "      <td>0</td>\n",
              "      <td>0</td>\n",
              "      <td>0</td>\n",
              "      <td>0</td>\n",
              "      <td>0</td>\n",
              "      <td>0</td>\n",
              "    </tr>\n",
              "    <tr>\n",
              "      <th>2</th>\n",
              "      <td>1359</td>\n",
              "      <td>2015-01-01 18:52:44</td>\n",
              "      <td>2015-01-01 18:52:45</td>\n",
              "      <td>15</td>\n",
              "      <td>YSSKYOSJHPPLJ</td>\n",
              "      <td>SEO</td>\n",
              "      <td>Opera</td>\n",
              "      <td>M</td>\n",
              "      <td>53</td>\n",
              "      <td>2.621474e+09</td>\n",
              "      <td>...</td>\n",
              "      <td>1</td>\n",
              "      <td>0</td>\n",
              "      <td>0</td>\n",
              "      <td>0</td>\n",
              "      <td>0</td>\n",
              "      <td>0</td>\n",
              "      <td>0</td>\n",
              "      <td>0</td>\n",
              "      <td>0</td>\n",
              "      <td>0</td>\n",
              "    </tr>\n",
              "    <tr>\n",
              "      <th>3</th>\n",
              "      <td>150084</td>\n",
              "      <td>2015-04-28 21:13:25</td>\n",
              "      <td>2015-05-04 13:54:50</td>\n",
              "      <td>44</td>\n",
              "      <td>ATGTXKYKUDUQN</td>\n",
              "      <td>SEO</td>\n",
              "      <td>Safari</td>\n",
              "      <td>M</td>\n",
              "      <td>41</td>\n",
              "      <td>3.840542e+09</td>\n",
              "      <td>...</td>\n",
              "      <td>0</td>\n",
              "      <td>0</td>\n",
              "      <td>0</td>\n",
              "      <td>0</td>\n",
              "      <td>0</td>\n",
              "      <td>0</td>\n",
              "      <td>0</td>\n",
              "      <td>0</td>\n",
              "      <td>0</td>\n",
              "      <td>0</td>\n",
              "    </tr>\n",
              "    <tr>\n",
              "      <th>4</th>\n",
              "      <td>221365</td>\n",
              "      <td>2015-07-21 07:09:52</td>\n",
              "      <td>2015-09-09 18:40:53</td>\n",
              "      <td>39</td>\n",
              "      <td>NAUITBZFJKHWW</td>\n",
              "      <td>Ads</td>\n",
              "      <td>Safari</td>\n",
              "      <td>M</td>\n",
              "      <td>45</td>\n",
              "      <td>4.155831e+08</td>\n",
              "      <td>...</td>\n",
              "      <td>1</td>\n",
              "      <td>0</td>\n",
              "      <td>0</td>\n",
              "      <td>0</td>\n",
              "      <td>0</td>\n",
              "      <td>0</td>\n",
              "      <td>0</td>\n",
              "      <td>0</td>\n",
              "      <td>0</td>\n",
              "      <td>0</td>\n",
              "    </tr>\n",
              "  </tbody>\n",
              "</table>\n",
              "<p>5 rows × 198 columns</p>\n",
              "</div>\n",
              "      <button class=\"colab-df-convert\" onclick=\"convertToInteractive('df-67cd8604-0329-43cc-b66d-60c3bd18187a')\"\n",
              "              title=\"Convert this dataframe to an interactive table.\"\n",
              "              style=\"display:none;\">\n",
              "        \n",
              "  <svg xmlns=\"http://www.w3.org/2000/svg\" height=\"24px\"viewBox=\"0 0 24 24\"\n",
              "       width=\"24px\">\n",
              "    <path d=\"M0 0h24v24H0V0z\" fill=\"none\"/>\n",
              "    <path d=\"M18.56 5.44l.94 2.06.94-2.06 2.06-.94-2.06-.94-.94-2.06-.94 2.06-2.06.94zm-11 1L8.5 8.5l.94-2.06 2.06-.94-2.06-.94L8.5 2.5l-.94 2.06-2.06.94zm10 10l.94 2.06.94-2.06 2.06-.94-2.06-.94-.94-2.06-.94 2.06-2.06.94z\"/><path d=\"M17.41 7.96l-1.37-1.37c-.4-.4-.92-.59-1.43-.59-.52 0-1.04.2-1.43.59L10.3 9.45l-7.72 7.72c-.78.78-.78 2.05 0 2.83L4 21.41c.39.39.9.59 1.41.59.51 0 1.02-.2 1.41-.59l7.78-7.78 2.81-2.81c.8-.78.8-2.07 0-2.86zM5.41 20L4 18.59l7.72-7.72 1.47 1.35L5.41 20z\"/>\n",
              "  </svg>\n",
              "      </button>\n",
              "      \n",
              "  <style>\n",
              "    .colab-df-container {\n",
              "      display:flex;\n",
              "      flex-wrap:wrap;\n",
              "      gap: 12px;\n",
              "    }\n",
              "\n",
              "    .colab-df-convert {\n",
              "      background-color: #E8F0FE;\n",
              "      border: none;\n",
              "      border-radius: 50%;\n",
              "      cursor: pointer;\n",
              "      display: none;\n",
              "      fill: #1967D2;\n",
              "      height: 32px;\n",
              "      padding: 0 0 0 0;\n",
              "      width: 32px;\n",
              "    }\n",
              "\n",
              "    .colab-df-convert:hover {\n",
              "      background-color: #E2EBFA;\n",
              "      box-shadow: 0px 1px 2px rgba(60, 64, 67, 0.3), 0px 1px 3px 1px rgba(60, 64, 67, 0.15);\n",
              "      fill: #174EA6;\n",
              "    }\n",
              "\n",
              "    [theme=dark] .colab-df-convert {\n",
              "      background-color: #3B4455;\n",
              "      fill: #D2E3FC;\n",
              "    }\n",
              "\n",
              "    [theme=dark] .colab-df-convert:hover {\n",
              "      background-color: #434B5C;\n",
              "      box-shadow: 0px 1px 3px 1px rgba(0, 0, 0, 0.15);\n",
              "      filter: drop-shadow(0px 1px 2px rgba(0, 0, 0, 0.3));\n",
              "      fill: #FFFFFF;\n",
              "    }\n",
              "  </style>\n",
              "\n",
              "      <script>\n",
              "        const buttonEl =\n",
              "          document.querySelector('#df-67cd8604-0329-43cc-b66d-60c3bd18187a button.colab-df-convert');\n",
              "        buttonEl.style.display =\n",
              "          google.colab.kernel.accessAllowed ? 'block' : 'none';\n",
              "\n",
              "        async function convertToInteractive(key) {\n",
              "          const element = document.querySelector('#df-67cd8604-0329-43cc-b66d-60c3bd18187a');\n",
              "          const dataTable =\n",
              "            await google.colab.kernel.invokeFunction('convertToInteractive',\n",
              "                                                     [key], {});\n",
              "          if (!dataTable) return;\n",
              "\n",
              "          const docLinkHtml = 'Like what you see? Visit the ' +\n",
              "            '<a target=\"_blank\" href=https://colab.research.google.com/notebooks/data_table.ipynb>data table notebook</a>'\n",
              "            + ' to learn more about interactive tables.';\n",
              "          element.innerHTML = '';\n",
              "          dataTable['output_type'] = 'display_data';\n",
              "          await google.colab.output.renderOutput(dataTable, element);\n",
              "          const docLink = document.createElement('div');\n",
              "          docLink.innerHTML = docLinkHtml;\n",
              "          element.appendChild(docLink);\n",
              "        }\n",
              "      </script>\n",
              "    </div>\n",
              "  </div>\n",
              "  "
            ]
          },
          "metadata": {},
          "execution_count": 35
        }
      ]
    },
    {
      "cell_type": "markdown",
      "source": [
        "### Removendo medidas"
      ],
      "metadata": {
        "id": "ZRpYx6AvH4dr"
      }
    },
    {
      "cell_type": "code",
      "source": [
        "# Removendo colunas que não serão úteis para nosso modelo\n",
        "fraude_df.drop([\"id\",\n",
        "            \"cadastro\",\n",
        "            \"compra\",\n",
        "            \"id_dispositivo\",\n",
        "            \"ip\",\n",
        "            \"id_por_dispositivo\",\n",
        "            \"id_por_ip\",\n",
        "            \"pais\",\n",
        "            \"fonte\",\n",
        "            \"browser\",\n",
        "            \"genero\",\n",
        "            \"idade\",\n",
        "            \"valor\"], axis=1, inplace = True)"
      ],
      "metadata": {
        "id": "eIEGtteZ393A"
      },
      "execution_count": null,
      "outputs": []
    },
    {
      "cell_type": "markdown",
      "source": [
        "### Transformando recursos em Gaussianos (reescalando)"
      ],
      "metadata": {
        "id": "202jafMIIDOE"
      }
    },
    {
      "cell_type": "code",
      "source": [
        "fraude_df[fraude_df[\"fraude\"] == 1].media_id.hist( bins=25)\n",
        "plt.xlabel(\"Número médio de IDs\", fontsize=15)\n",
        "plt.ylabel(\"Contagem normalizada\", fontsize=15)"
      ],
      "metadata": {
        "colab": {
          "base_uri": "https://localhost:8080/",
          "height": 302
        },
        "id": "smuYOD94BIy1",
        "outputId": "08e2db8e-2f1f-47a4-8708-71c6c5eeccf8"
      },
      "execution_count": null,
      "outputs": [
        {
          "output_type": "execute_result",
          "data": {
            "text/plain": [
              "Text(0, 0.5, 'Contagem normalizada')"
            ]
          },
          "metadata": {},
          "execution_count": 38
        },
        {
          "output_type": "display_data",
          "data": {
            "text/plain": [
              "<Figure size 432x288 with 1 Axes>"
            ],
            "image/png": "[encoded data removed]"
          },
          "metadata": {
            "needs_background": "light"
          }
        }
      ]
    },
    {
      "cell_type": "markdown",
      "source": [
        "Temos uma distribuição bimodal com um pico inicial bem mais acentuado que o segundo"
      ],
      "metadata": {
        "id": "muJ5vyndInTf"
      }
    },
    {
      "cell_type": "code",
      "source": [
        "fraude_df.tempo.hist(bins=25)\n",
        "plt.xlabel(\"Tempo de compra e inscrição (segundos)\", fontsize=15)\n",
        "plt.ylabel(\"Contagem normalizada\", fontsize=15)"
      ],
      "metadata": {
        "colab": {
          "base_uri": "https://localhost:8080/",
          "height": 306
        },
        "id": "rk1pM5znIu38",
        "outputId": "4364aa1d-3e0a-4fee-a5e1-b20a0ae14527"
      },
      "execution_count": null,
      "outputs": [
        {
          "output_type": "execute_result",
          "data": {
            "text/plain": [
              "Text(0, 0.5, 'Contagem normalizada')"
            ]
          },
          "metadata": {},
          "execution_count": 44
        },
        {
          "output_type": "display_data",
          "data": {
            "text/plain": [
              "<Figure size 432x288 with 1 Axes>"
            ],
            "image/png": "[encoded data removed]"
          },
          "metadata": {
            "needs_background": "light"
          }
        }
      ]
    },
    {
      "cell_type": "code",
      "source": [
        "# Função para reescalar os valores de tempo e facilitar o trabalho do modelo\n",
        "def rescale_series(ser):\n",
        "    ser_min = ser.min() - 1e-5\n",
        "    ser_max = ser.max() + 1e-5\n",
        "    new_ser = (ser - ser_min) / (ser_max - ser_min)\n",
        "    new_ser = new_ser.apply(lambda x: np.sqrt(2)*special.erfinv(2*x - 1))\n",
        "    return new_ser"
      ],
      "metadata": {
        "id": "HHmwWMOHK86n"
      },
      "execution_count": null,
      "outputs": []
    },
    {
      "cell_type": "code",
      "source": [
        "fraude_df[\"tempo\"] = rescale_series(fraude_df.tempo)\n",
        "fraude_df.tempo.hist(bins=25)\n",
        "plt.xlabel(\"Tempo entre compra e inscrição(segundos)\", fontsize=15)\n",
        "plt.ylabel(\"Contagem normalizada\", fontsize=15)"
      ],
      "metadata": {
        "colab": {
          "base_uri": "https://localhost:8080/",
          "height": 303
        },
        "id": "xheYDlNQK_hZ",
        "outputId": "d1b078f7-1b4e-4279-a75e-5b7168ff615e"
      },
      "execution_count": null,
      "outputs": [
        {
          "output_type": "execute_result",
          "data": {
            "text/plain": [
              "Text(0, 0.5, 'Contagem normalizada')"
            ]
          },
          "metadata": {},
          "execution_count": 45
        },
        {
          "output_type": "display_data",
          "data": {
            "text/plain": [
              "<Figure size 432x288 with 1 Axes>"
            ],
            "image/png": "[encoded data removed]"
          },
          "metadata": {
            "needs_background": "light"
          }
        }
      ]
    },
    {
      "cell_type": "markdown",
      "source": [
        "Agora temos nossos dados representados numa distribuição normal, apesar de ainda termos o pico inicial representado"
      ],
      "metadata": {
        "id": "cTAfK7cSMFJn"
      }
    },
    {
      "cell_type": "markdown",
      "source": [
        "Agora vamos reescalar todas as colunas (exceto as de PAÍS) para assumirem valores entre 0 e 1, isso também deve facilitar o trabalho do nosso modelo."
      ],
      "metadata": {
        "id": "UeB7TjoYMapd"
      }
    },
    {
      "cell_type": "code",
      "source": [
        "# Função para reescalar colunas entre 0 e 1\n",
        "def rescale_series(ser):\n",
        "    ser_min = ser.min()\n",
        "    ser_max = ser.max()\n",
        "    new_ser = (ser - ser_min) / (ser_max - ser_min)\n",
        "    return new_ser\n",
        "\n",
        "onehotencoded = [feature for feature in fraude_df.columns if \"pais\" not in feature and feature != \"fraude\"]\n",
        "\n",
        "# Aplicando a função em todas as colunas, exceto as de PAÍS\n",
        "for col in onehotencoded:\n",
        "    fraude_df[col] = rescale_series(fraude_df[col])\n",
        "\n",
        "    X = fraude_df[ [col for col in fraude_df.columns if col != \"fraude\"]]\n",
        "    Y = fraude_df[\"fraude\"]"
      ],
      "metadata": {
        "id": "qybzlP7zMRmN"
      },
      "execution_count": null,
      "outputs": []
    },
    {
      "cell_type": "code",
      "source": [
        "# Salvando os dados\n",
        "X.to_csv(\"X.csv\", index=False)\n",
        "Y.to_csv(\"Y.csv\", index=False)"
      ],
      "metadata": {
        "id": "WqrbIGpcNwX6"
      },
      "execution_count": null,
      "outputs": []
    },
    {
      "cell_type": "markdown",
      "source": [
        "### Identificando variáveis importantes"
      ],
      "metadata": {
        "id": "XTniwhIlP6Hq"
      }
    },
    {
      "cell_type": "markdown",
      "source": [
        "Vamos agora conferir quais das nossas variáveis são mais relevantes. Isso é importante principalmente neste caso já que temos muitas colunas, o que pode atrasar o treinamento do modelo."
      ],
      "metadata": {
        "id": "gOe_5IxVPMrA"
      }
    },
    {
      "cell_type": "code",
      "source": [
        "clf = ExtraTreesClassifier()\n",
        "_ = clf.fit(X,Y)\n",
        "\n",
        "features = pd.DataFrame()\n",
        "features['feature'] = X.columns\n",
        "features['importancia'] = clf.feature_importances_\n",
        "\n",
        "features[features.importancia > np.mean(features.importancia)].sort_values(by=\"importancia\", ascending=False)"
      ],
      "metadata": {
        "colab": {
          "base_uri": "https://localhost:8080/",
          "height": 112
        },
        "id": "aVfkR_kNPEFE",
        "outputId": "374e76d0-7cd5-416d-d5d0-3d741811978b"
      },
      "execution_count": null,
      "outputs": [
        {
          "output_type": "execute_result",
          "data": {
            "text/plain": [
              "    feature  importancia\n",
              "1     tempo     0.658918\n",
              "0  media_id     0.335547"
            ],
            "text/html": [
              "\n",
              "  <div id=\"df-58e69cb6-6abe-4017-bb5e-2aea66ae8458\">\n",
              "    <div class=\"colab-df-container\">\n",
              "      <div>\n",
              "<style scoped>\n",
              "    .dataframe tbody tr th:only-of-type {\n",
              "        vertical-align: middle;\n",
              "    }\n",
              "\n",
              "    .dataframe tbody tr th {\n",
              "        vertical-align: top;\n",
              "    }\n",
              "\n",
              "    .dataframe thead th {\n",
              "        text-align: right;\n",
              "    }\n",
              "</style>\n",
              "<table border=\"1\" class=\"dataframe\">\n",
              "  <thead>\n",
              "    <tr style=\"text-align: right;\">\n",
              "      <th></th>\n",
              "      <th>feature</th>\n",
              "      <th>importancia</th>\n",
              "    </tr>\n",
              "  </thead>\n",
              "  <tbody>\n",
              "    <tr>\n",
              "      <th>1</th>\n",
              "      <td>tempo</td>\n",
              "      <td>0.658918</td>\n",
              "    </tr>\n",
              "    <tr>\n",
              "      <th>0</th>\n",
              "      <td>media_id</td>\n",
              "      <td>0.335547</td>\n",
              "    </tr>\n",
              "  </tbody>\n",
              "</table>\n",
              "</div>\n",
              "      <button class=\"colab-df-convert\" onclick=\"convertToInteractive('df-58e69cb6-6abe-4017-bb5e-2aea66ae8458')\"\n",
              "              title=\"Convert this dataframe to an interactive table.\"\n",
              "              style=\"display:none;\">\n",
              "        \n",
              "  <svg xmlns=\"http://www.w3.org/2000/svg\" height=\"24px\"viewBox=\"0 0 24 24\"\n",
              "       width=\"24px\">\n",
              "    <path d=\"M0 0h24v24H0V0z\" fill=\"none\"/>\n",
              "    <path d=\"M18.56 5.44l.94 2.06.94-2.06 2.06-.94-2.06-.94-.94-2.06-.94 2.06-2.06.94zm-11 1L8.5 8.5l.94-2.06 2.06-.94-2.06-.94L8.5 2.5l-.94 2.06-2.06.94zm10 10l.94 2.06.94-2.06 2.06-.94-2.06-.94-.94-2.06-.94 2.06-2.06.94z\"/><path d=\"M17.41 7.96l-1.37-1.37c-.4-.4-.92-.59-1.43-.59-.52 0-1.04.2-1.43.59L10.3 9.45l-7.72 7.72c-.78.78-.78 2.05 0 2.83L4 21.41c.39.39.9.59 1.41.59.51 0 1.02-.2 1.41-.59l7.78-7.78 2.81-2.81c.8-.78.8-2.07 0-2.86zM5.41 20L4 18.59l7.72-7.72 1.47 1.35L5.41 20z\"/>\n",
              "  </svg>\n",
              "      </button>\n",
              "      \n",
              "  <style>\n",
              "    .colab-df-container {\n",
              "      display:flex;\n",
              "      flex-wrap:wrap;\n",
              "      gap: 12px;\n",
              "    }\n",
              "\n",
              "    .colab-df-convert {\n",
              "      background-color: #E8F0FE;\n",
              "      border: none;\n",
              "      border-radius: 50%;\n",
              "      cursor: pointer;\n",
              "      display: none;\n",
              "      fill: #1967D2;\n",
              "      height: 32px;\n",
              "      padding: 0 0 0 0;\n",
              "      width: 32px;\n",
              "    }\n",
              "\n",
              "    .colab-df-convert:hover {\n",
              "      background-color: #E2EBFA;\n",
              "      box-shadow: 0px 1px 2px rgba(60, 64, 67, 0.3), 0px 1px 3px 1px rgba(60, 64, 67, 0.15);\n",
              "      fill: #174EA6;\n",
              "    }\n",
              "\n",
              "    [theme=dark] .colab-df-convert {\n",
              "      background-color: #3B4455;\n",
              "      fill: #D2E3FC;\n",
              "    }\n",
              "\n",
              "    [theme=dark] .colab-df-convert:hover {\n",
              "      background-color: #434B5C;\n",
              "      box-shadow: 0px 1px 3px 1px rgba(0, 0, 0, 0.15);\n",
              "      filter: drop-shadow(0px 1px 2px rgba(0, 0, 0, 0.3));\n",
              "      fill: #FFFFFF;\n",
              "    }\n",
              "  </style>\n",
              "\n",
              "      <script>\n",
              "        const buttonEl =\n",
              "          document.querySelector('#df-58e69cb6-6abe-4017-bb5e-2aea66ae8458 button.colab-df-convert');\n",
              "        buttonEl.style.display =\n",
              "          google.colab.kernel.accessAllowed ? 'block' : 'none';\n",
              "\n",
              "        async function convertToInteractive(key) {\n",
              "          const element = document.querySelector('#df-58e69cb6-6abe-4017-bb5e-2aea66ae8458');\n",
              "          const dataTable =\n",
              "            await google.colab.kernel.invokeFunction('convertToInteractive',\n",
              "                                                     [key], {});\n",
              "          if (!dataTable) return;\n",
              "\n",
              "          const docLinkHtml = 'Like what you see? Visit the ' +\n",
              "            '<a target=\"_blank\" href=https://colab.research.google.com/notebooks/data_table.ipynb>data table notebook</a>'\n",
              "            + ' to learn more about interactive tables.';\n",
              "          element.innerHTML = '';\n",
              "          dataTable['output_type'] = 'display_data';\n",
              "          await google.colab.output.renderOutput(dataTable, element);\n",
              "          const docLink = document.createElement('div');\n",
              "          docLink.innerHTML = docLinkHtml;\n",
              "          element.appendChild(docLink);\n",
              "        }\n",
              "      </script>\n",
              "    </div>\n",
              "  </div>\n",
              "  "
            ]
          },
          "metadata": {},
          "execution_count": 50
        }
      ]
    },
    {
      "cell_type": "markdown",
      "source": [
        "As variáveis TEMPO e MEDIA_ID são usoladamente as mais relevantes do nosso conjunto de dados, sendo resonsáveis por mais de 99% da importância."
      ],
      "metadata": {
        "id": "jDla9tE-X1c0"
      }
    },
    {
      "cell_type": "markdown",
      "source": [
        "## 4 - Criando modelos preditivos"
      ],
      "metadata": {
        "id": "h5FyDVH1Zfcc"
      }
    },
    {
      "cell_type": "markdown",
      "source": [
        "### Treinando o modelo"
      ],
      "metadata": {
        "id": "6X7Q5Oj8xQZK"
      }
    },
    {
      "cell_type": "code",
      "source": [
        "# Dividindo dados de treino e teste\n",
        "X_dev, X_eval, Y_dev, Y_eval = train_test_split(X, Y, train_size = 0.75, random_state = 23)\n",
        "\n",
        "# o modelo IsolationForest espera os valores 1 e -1\n",
        "Y_dev = Y_dev.apply(lambda x: 1 if x == 0 else -1)\n",
        "Y_eval = Y_eval.apply(lambda x: 1 if x == 0 else -1)"
      ],
      "metadata": {
        "id": "yAxSSrZhXWHN"
      },
      "execution_count": null,
      "outputs": []
    },
    {
      "cell_type": "code",
      "source": [
        "# Buscando o melhor valor para o parâmetro n_estimators com GridSerch CV (processo bastante demorado)\n",
        "IF = IsolationForest(max_samples=\"auto\", contamination = 0.095, random_state=1)\n",
        "param_grid = {\"n_estimators\": [100, 150, 200, 250, 300, 350, 400, 450, 500]}\n",
        "\n",
        "clf = GridSearchCV(IF,\n",
        "                param_grid,\n",
        "                cv=5,\n",
        "                n_jobs=10,\n",
        "                scoring=\"f1\",\n",
        "                verbose=10)\n",
        "\n",
        "clf.fit(X_dev, Y_dev)"
      ],
      "metadata": {
        "colab": {
          "base_uri": "https://localhost:8080/"
        },
        "id": "eTFvPDUbczl9",
        "outputId": "a07230dc-e687-4e62-9119-d5313ab3436f"
      },
      "execution_count": null,
      "outputs": [
        {
          "output_type": "stream",
          "name": "stdout",
          "text": [
            "Fitting 5 folds for each of 9 candidates, totalling 45 fits\n"
          ]
        },
        {
          "output_type": "stream",
          "name": "stderr",
          "text": [
            "/usr/local/lib/python3.7/dist-packages/sklearn/base.py:451: UserWarning: X does not have valid feature names, but IsolationForest was fitted with feature names\n",
            "  \"X does not have valid feature names, but\"\n"
          ]
        },
        {
          "output_type": "execute_result",
          "data": {
            "text/plain": [
              "GridSearchCV(cv=5,\n",
              "             estimator=IsolationForest(contamination=0.095, random_state=1),\n",
              "             n_jobs=10,\n",
              "             param_grid={'n_estimators': [100, 150, 200, 250, 300, 350, 400,\n",
              "                                          450, 500]},\n",
              "             scoring='f1', verbose=10)"
            ]
          },
          "metadata": {},
          "execution_count": 54
        }
      ]
    },
    {
      "cell_type": "markdown",
      "source": [
        "Podemos agora conferir o nosso melhor modelo:"
      ],
      "metadata": {
        "id": "61boL1xJl_Bn"
      }
    },
    {
      "cell_type": "code",
      "source": [
        "IF_best = clf.best_estimator_\n",
        "IF_best"
      ],
      "metadata": {
        "colab": {
          "base_uri": "https://localhost:8080/"
        },
        "id": "FfaUUiAKij9P",
        "outputId": "c9c3104d-07b3-4f2b-a5b8-6e283e728665"
      },
      "execution_count": null,
      "outputs": [
        {
          "output_type": "execute_result",
          "data": {
            "text/plain": [
              "IsolationForest(contamination=0.095, n_estimators=500, random_state=1)"
            ]
          },
          "metadata": {},
          "execution_count": 55
        }
      ]
    },
    {
      "cell_type": "markdown",
      "source": [
        "### Curva ROC"
      ],
      "metadata": {
        "id": "e4aNQk7engso"
      }
    },
    {
      "cell_type": "code",
      "source": [
        "Y_predicted = IF_best.predict(X_eval)\n",
        "roc_auc = roc_auc_score(Y_eval, Y_predicted)\n",
        "\n",
        "print (classification_report(Y_eval,\n",
        "                Y_predicted,\n",
        "                target_names=[\"anomalo\",\"normal\"]))\n",
        "print(\"Area sob a curva ROC: {:0, 3f}\", format(roc_auc))\n",
        "\n",
        "IF_probs = IF_best.decision_function(X_eval)\n",
        "fpr, tpr, threshold = roc_curve(Y_eval, IF_probs)\n",
        "\n",
        "plt.plot(fpr, tpr, lw=1)\n",
        "\n",
        "plt.plot([0,1],[0,1], '--', color=(0.6,0.6,0.6), label=\"sorte\")\n",
        "plt.xlim([-0.05, 1.05])\n",
        "plt.ylim([-0.05, 1.05])\n",
        "\n",
        "plt.xlabel(\"Taxa de falsos positivos\", fontsize=15)\n",
        "plt.ylabel(\"Tava de verdadeiros positivos\", fontsize=15)\n",
        "plt.title(\"Curva ROC\", fontsize=12)\n",
        "\n",
        "plt.show()"
      ],
      "metadata": {
        "colab": {
          "base_uri": "https://localhost:8080/",
          "height": 474
        },
        "id": "S-RX-_G5iJDG",
        "outputId": "9a9a4920-3ba7-48b2-e86d-6497d990518e"
      },
      "execution_count": null,
      "outputs": [
        {
          "output_type": "stream",
          "name": "stdout",
          "text": [
            "              precision    recall  f1-score   support\n",
            "\n",
            "     anomalo       0.79      0.55      0.65      4221\n",
            "      normal       0.86      0.95      0.90     12351\n",
            "\n",
            "    accuracy                           0.85     16572\n",
            "   macro avg       0.82      0.75      0.77     16572\n",
            "weighted avg       0.84      0.85      0.84     16572\n",
            "\n",
            "Area sob a curva ROC: {:0, 3f} 0.7480678141153999\n"
          ]
        },
        {
          "output_type": "display_data",
          "data": {
            "text/plain": [
              "<Figure size 432x288 with 1 Axes>"
            ],
            "image/png": "[encoded data removed]"
          },
          "metadata": {
            "needs_background": "light"
          }
        }
      ]
    },
    {
      "cell_type": "markdown",
      "source": [
        "### Matriz de confusão"
      ],
      "metadata": {
        "id": "_65u0Ee5xJTS"
      }
    },
    {
      "cell_type": "code",
      "source": [
        "cnf_matrix_IF = confusion_matrix(Y_eval, Y_predicted)\n",
        "print('Matriz de Confusão:')\n",
        "print(cnf_matrix_IF)"
      ],
      "metadata": {
        "colab": {
          "base_uri": "https://localhost:8080/"
        },
        "id": "qeJnheusoUfo",
        "outputId": "487433ce-ae22-4120-ab3e-6576e9b47f72"
      },
      "execution_count": null,
      "outputs": [
        {
          "output_type": "stream",
          "name": "stdout",
          "text": [
            "Matriz de Confusão:\n",
            "[[ 2303  1918]\n",
            " [  611 11740]]\n"
          ]
        }
      ]
    },
    {
      "cell_type": "markdown",
      "source": [
        "Padrão seguido da Matriz de confusão:"
      ],
      "metadata": {
        "id": "OBZJKKdY1TUe"
      }
    },
    {
      "cell_type": "markdown",
      "source": [
        "![image.png](data:image/png;base64,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)\n"
      ],
      "metadata": {
        "id": "t2iasuk8shW2"
      }
    },
    {
      "cell_type": "markdown",
      "source": [
        "### Modelo não supervisionado"
      ],
      "metadata": {
        "id": "U6iiDsoD6opK"
      }
    },
    {
      "cell_type": "markdown",
      "source": [
        "#### Arrumando os dados"
      ],
      "metadata": {
        "id": "QqFVSZPUxLXN"
      }
    },
    {
      "cell_type": "code",
      "source": [
        "# Destuno de volta ao conjunto de recursos\n",
        "X['fraude'] = Y\n",
        "\n",
        "#Divide entre anomalias e normal\n",
        "X_anomalias = X[X['fraude'] == 1]\n",
        "X_normal = X[X['fraude'] == 0]\n",
        "\n",
        "# Amostra de 70% do conjunto de dados 'normal' para treino\n",
        "train_idxs = random.sample(list(X_normal.index), int(0.7*X_normal.shape[0]))\n",
        "X_train = X_normal.loc[train_idxs]\n",
        "\n",
        "# Conjunto de teste une o que sobrou do conjunto 'normal' com o conjunto 'anomalia'\n",
        "X_testing = X_normal.drop(train_idxs)\n",
        "X_testing = pd.concat([X_testing, X_anomalias], axis=0)\n",
        "\n",
        "# Embaralha os dados e reseta o índice\n",
        "X_train = X_train.sample(frac=1).reset_index(drop=True)\n",
        "X_testing = X_testing.sample(frac=1).reset_index(drop=True)\n",
        "\n",
        "# Movendo a coluna 'fraude' para Y_testing\n",
        "Y_testing = X_testing['fraude']\n",
        "X_testing = X_testing [[col for col in X_testing.columns if col != 'fraude']]\n",
        "\n",
        "# Divide os dados\n",
        "X_cv, X_eval, Y_cv, Y_eval = train_test_split(X_testing, Y_testing, train_size = 0.7, random_state=23)\n",
        "\n",
        "# Padroniza para o modelo\n",
        "Y_cv = Y_cv.apply(lambda x: 1 if x==0 else -1)\n",
        "Y_eval = Y_eval.apply(lambda x: 1 if x==0 else -1)\n",
        "\n",
        "# Removendo a coluna 'fraude'\n",
        "X_train = X_train[ [col for col in X_testing.columns if col != 'fraude']]"
      ],
      "metadata": {
        "id": "fdFlCMqwsXGW"
      },
      "execution_count": null,
      "outputs": []
    },
    {
      "cell_type": "markdown",
      "source": [
        "#### Procurando o melhor modelo"
      ],
      "metadata": {
        "id": "MkNYq0eH6jdm"
      }
    },
    {
      "cell_type": "code",
      "source": [
        "# Parâmetros de teste\n",
        "param_grid = {\"nu\": np.linspace(0.001, 0.01, 5), \"gamma\": [0.01, 0.03, 0.1, 0.3]}\n",
        "\n",
        "param_list = list(itertools.product(param_grid[\"nu\"],param_grid[\"gamma\"]))"
      ],
      "metadata": {
        "id": "qPFsLjwY4S9N"
      },
      "execution_count": null,
      "outputs": []
    },
    {
      "cell_type": "code",
      "source": [
        "# Função para gridsearch aleatório\n",
        "def random_gridsearch(param_list, n_sample, X_train, X_cv, Y_cv):\n",
        "\n",
        "    f1_max = 0\n",
        "    param_list = random.sample(param_list, n_sample)\n",
        "    remaining_fits = n_sample\n",
        "    for params in param_list:\n",
        "        nu, gamma = params\n",
        "        OCSVM = OneClassSVM(kernel=\"rbf\", nu=nu, gamma=gamma)\n",
        "        print('Fitando modelo...')\n",
        "        OCSVM.fit(X_train)\n",
        "\n",
        "        cv_preds = OCSVM.predict(X_cv)\n",
        "        f1 = f1_score(Y_cv.values, cv_preds, average=\"binary\")\n",
        "\n",
        "        if f1 > f1_max:\n",
        "            f1_max = f1\n",
        "            OCSVM_best = OCSVM\n",
        "\n",
        "            remaining_fits -=1\n",
        "\n",
        "    return f1_max, OCSVM"
      ],
      "metadata": {
        "id": "JwgzreM542rt"
      },
      "execution_count": null,
      "outputs": []
    },
    {
      "cell_type": "code",
      "source": [
        "f1_max, OCSVM_best = random_gridsearch(param_list, 10, X_train, X_cv, Y_cv)"
      ],
      "metadata": {
        "colab": {
          "base_uri": "https://localhost:8080/"
        },
        "id": "sKK7ThFI6HEX",
        "outputId": "5fdb6600-85af-40e7-b0d5-6635a5221139"
      },
      "execution_count": null,
      "outputs": [
        {
          "output_type": "stream",
          "name": "stdout",
          "text": [
            "Fitando modelo...\n",
            "Fitando modelo...\n",
            "Fitando modelo...\n",
            "Fitando modelo...\n",
            "Fitando modelo...\n",
            "Fitando modelo...\n",
            "Fitando modelo...\n",
            "Fitando modelo...\n",
            "Fitando modelo...\n",
            "Fitando modelo...\n"
          ]
        }
      ]
    },
    {
      "cell_type": "markdown",
      "source": [
        "### Curva ROC"
      ],
      "metadata": {
        "id": "42LzfilE7Sxk"
      }
    },
    {
      "cell_type": "code",
      "source": [
        "OCSVM_best.fit(X_train)\n",
        "Y_predicted = OCSVM_best.predict(X_eval)\n",
        "roc_auc = roc_auc_score(Y_eval, Y_predicted)\n",
        "\n",
        "print(classification_report(Y_eval,\n",
        "                            Y_predicted,\n",
        "                            target_names=['anormais', 'normais']))\n",
        "\n",
        "print('Área sob a curva ROC: {:0.3f}', format(roc_auc))\n",
        "\n",
        "OCSVM_probs = OCSVM_best.decision_function(X_eval)\n",
        "fpr, tpr, threshold = roc_curve(Y_eval, OCSVM_probs)\n",
        "\n",
        "plt.plot(fpr, tpr, lw=1, label='ROC')\n",
        "plt.plot([0,1], [0,1], '--', color=[0.6, 0.6, 0.6], label='sorte')\n",
        "\n",
        "plt.xlim([-0.05, 1.05])\n",
        "plt.ylim([-0.05, 1.05])\n",
        "\n",
        "plt.xlabel('Taxa de positivos falsos', fontsize=15)\n",
        "plt.ylabel('Taxa de positivos verdadeiros', fontsize=15)\n",
        "plt.title('Curva ROC')\n",
        "\n",
        "plt.show()"
      ],
      "metadata": {
        "colab": {
          "base_uri": "https://localhost:8080/",
          "height": 474
        },
        "id": "sOaDT4zE6blf",
        "outputId": "5c39d2a0-fcb1-4b88-db8b-7f0e95b6c010"
      },
      "execution_count": null,
      "outputs": [
        {
          "output_type": "stream",
          "name": "stdout",
          "text": [
            "              precision    recall  f1-score   support\n",
            "\n",
            "    anormais       0.96      0.54      0.69      4289\n",
            "     normais       0.86      0.99      0.92     12283\n",
            "\n",
            "    accuracy                           0.88     16572\n",
            "   macro avg       0.91      0.77      0.81     16572\n",
            "weighted avg       0.89      0.88      0.86     16572\n",
            "\n",
            "Área sob a curva ROC: {:0.3f} 0.767559963370263\n"
          ]
        },
        {
          "output_type": "display_data",
          "data": {
            "text/plain": [
              "<Figure size 432x288 with 1 Axes>"
            ],
            "image/png": "[encoded data removed]"
          },
          "metadata": {
            "needs_background": "light"
          }
        }
      ]
    },
    {
      "cell_type": "code",
      "source": [
        "print('Matriz de Confusão:')\n",
        "print(confusion_matrix(Y_eval, Y_predicted))"
      ],
      "metadata": {
        "colab": {
          "base_uri": "https://localhost:8080/"
        },
        "id": "__QDwVEI8Nos",
        "outputId": "be16e04c-a7ab-4f8a-b435-0269acb854d4"
      },
      "execution_count": null,
      "outputs": [
        {
          "output_type": "stream",
          "name": "stdout",
          "text": [
            "Matriz de Confusão:\n",
            "[[ 2329  1960]\n",
            " [   97 12186]]\n"
          ]
        }
      ]
    },
    {
      "cell_type": "markdown",
      "source": [
        "## 5 - Um modelo mais adequado"
      ],
      "metadata": {
        "id": "KS0JAJ5Q-rnK"
      }
    },
    {
      "cell_type": "markdown",
      "source": [
        "Vamos agora testar uma DecisionTree ao invés de uma Isolation Forest"
      ],
      "metadata": {
        "id": "y7vhRvF3_7Q1"
      }
    },
    {
      "cell_type": "code",
      "source": [
        "# Cira e treina o modelo\n",
        "decision_tree = DecisionTreeClassifier(random_state=1)\n",
        "decision_tree.fit(X_dev, Y_dev)\n",
        "\n",
        "# Previsões\n",
        "Y_predicted = decision_tree.predict(X_eval)\n",
        "roc_auc = roc_auc_score(Y_eval, Y_predicted)\n",
        "\n",
        "cv_preds = decision_tree.predict(X_cv)\n",
        "print(classification_report(Y_eval,\n",
        "                            Y_predicted,\n",
        "                            target_names=['anormais', 'normais']))\n",
        "\n",
        "print('Área sob a curva ROC: {:0.3f}'. format(roc_auc))\n",
        "\n",
        "dt_probs = decision_tree.predict_proba(X_eval)\n",
        "fpr, tpr, _ = roc_curve(Y_eval, Y_predicted)\n",
        "\n",
        "plt.plot(fpr, tpr, lw=1, label='ROC')\n",
        "plt.plot([0,1], [0,1], '--', color=[0.6, 0.6, 0.6], label='sorte')\n",
        "\n",
        "plt.xlim([-0.05, 1.05])\n",
        "plt.ylim([-0.05, 1.05])\n",
        "\n",
        "plt.xlabel('Taxa de positivos falsos', fontsize=15)\n",
        "plt.ylabel('Taxa de positivos verdadeiros', fontsize=15)\n",
        "plt.title('Curva ROC')\n",
        "\n",
        "plt.show()"
      ],
      "metadata": {
        "colab": {
          "base_uri": "https://localhost:8080/",
          "height": 474
        },
        "id": "1ZUYxVJ9_z8W",
        "outputId": "6db477b6-d83e-44f0-9b79-469f66d7bc16"
      },
      "execution_count": null,
      "outputs": [
        {
          "output_type": "stream",
          "name": "stdout",
          "text": [
            "              precision    recall  f1-score   support\n",
            "\n",
            "    anormais       0.96      0.89      0.92      4289\n",
            "     normais       0.96      0.99      0.97     12283\n",
            "\n",
            "    accuracy                           0.96     16572\n",
            "   macro avg       0.96      0.94      0.95     16572\n",
            "weighted avg       0.96      0.96      0.96     16572\n",
            "\n",
            "Área sob a curva ROC: 0.936\n"
          ]
        },
        {
          "output_type": "display_data",
          "data": {
            "text/plain": [
              "<Figure size 432x288 with 1 Axes>"
            ],
            "image/png": "[encoded data removed]"
          },
          "metadata": {
            "needs_background": "light"
          }
        }
      ]
    },
    {
      "cell_type": "markdown",
      "source": [
        "As métricas para esse modelo são significativamente melhoras que a dos modelos anteriores, especialmente devido a área sob a curva ser maior."
      ],
      "metadata": {
        "id": "g4fnYp_VAszH"
      }
    },
    {
      "cell_type": "code",
      "source": [
        "print('Matriz de Confusão:')\n",
        "print(confusion_matrix(Y_eval, Y_predicted))"
      ],
      "metadata": {
        "colab": {
          "base_uri": "https://localhost:8080/"
        },
        "id": "LjAh9ITtBOV3",
        "outputId": "309661ba-032c-442c-f015-d1d521a77213"
      },
      "execution_count": null,
      "outputs": [
        {
          "output_type": "stream",
          "name": "stdout",
          "text": [
            "Matriz de Confusão:\n",
            "[[ 3799   490]\n",
            " [  169 12114]]\n"
          ]
        }
      ]
    },
    {
      "cell_type": "markdown",
      "source": [
        "A matriz de confusão também apresenta um resultado bem mais satisfatório para o modelo de DecisionTree"
      ],
      "metadata": {
        "id": "2Mr7lqfYBSZ1"
      }
    },
    {
      "cell_type": "markdown",
      "source": [
        "## Conclusões finais:\n",
        "A partir destes resultados pode-se concluir que:\n",
        "- Nem todos os endereços de IP podem ser rastreados\n",
        "- O país de origem não representa uma informação importante para identificar fraudes\n",
        "- As características mais importantes são: o intervalo de **TEMPO** da inscrição até a compra e o **NÚMERO DE ID's** \n",
        "- O modelo não supervisionado possui uma precisão inferior comparado ao supervisionado, sendo o modelo DecisionTree o mais adequado entre os modelos testados.\n",
        "\n",
        "## Recomendações:\n",
        "- Exigir nome completo do usuário e e-mail para inscrição\n",
        "- Oferecer ofertas e descontos em potencial logo após inscrição para tentar prolongar o tempo e diferenciar o usuário humano de um usuário robo\n",
        "- Aumentar a segurança nos primeiros mêses do ano\n",
        "- Pedir para responder perguntas de segurança os CAPTCHAS caso seja identificado como possível fraude"
      ],
      "metadata": {
        "id": "B5BL5lK58f2R"
      }
    }
  ]
}